{
  "nbformat": 4,
  "nbformat_minor": 0,
  "metadata": {
    "colab": {
      "name": "Assignment_ML_L2.ipynb",
      "provenance": [],
      "collapsed_sections": [],
      "include_colab_link": true
    },
    "kernelspec": {
      "name": "python3",
      "display_name": "Python 3"
    }
  },
  "cells": [
    {
      "cell_type": "markdown",
      "metadata": {
        "id": "view-in-github",
        "colab_type": "text"
      },
      "source": [
        "<a href=\"https://colab.research.google.com/github/sp1999/SHALA2020/blob/master/Assignment_2_ML.ipynb\" target=\"_parent\"><img src=\"https://colab.research.google.com/assets/colab-badge.svg\" alt=\"Open In Colab\"/></a>"
      ]
    },
    {
      "cell_type": "markdown",
      "metadata": {
        "id": "RNGCt-t9hq7H",
        "colab_type": "text"
      },
      "source": [
        "# Assignment 2: **Machine learning with tree based models** "
      ]
    },
    {
      "cell_type": "markdown",
      "metadata": {
        "id": "AlmhCLRrfoG4",
        "colab_type": "text"
      },
      "source": [
        "In this assignment, you will work on the **Titanic** dataset and use machine learning to create a model that predicts which passengers survived the **Titanic** shipwreck. "
      ]
    },
    {
      "cell_type": "markdown",
      "metadata": {
        "id": "ysVvT5atiUCf",
        "colab_type": "text"
      },
      "source": [
        "---\n",
        "## About the dataset:\n",
        "---\n",
        "* The column named  `Survived` is the label and the remaining columns are features. \n",
        "* The features can be described as given below:\n",
        "  <table>\n",
        "  <thead>\n",
        "    <tr>\n",
        "      <th>Variable</th>\n",
        "      <th>Definition </th>\n",
        "    </tr>\n",
        "  </thead>\n",
        "  <tbody>\n",
        "    <tr>\n",
        "      <td>pclass</td>\n",
        "      <td>Ticket class\t</td>\n",
        "    </tr>\n",
        "    <tr>\n",
        "      <td>SibSp</td>\n",
        "      <td>Number of siblings / spouses aboard the Titanic</td>\n",
        "    </tr>\n",
        "    <tr>\n",
        "      <td>Parch</td>\n",
        "      <td>Number of parents / children aboard the Titanic</td>\n",
        "    </tr>\n",
        "    <tr>\n",
        "      <td>Ticket</td>\n",
        "      <td>Ticket number</td>\n",
        "    </tr>\n",
        "    <tr>\n",
        "      <td>Embarked</td>\n",
        "      <td>Port of Embarkation: C = Cherbourg, Q = Queenstown, S = Southampton</td>\n",
        "    </tr>\n",
        "  </tbody>\n",
        "</table> \t"
      ]
    },
    {
      "cell_type": "markdown",
      "metadata": {
        "id": "2XYBBIcKkXtu",
        "colab_type": "text"
      },
      "source": [
        "---\n",
        "## Instructions\n",
        "---\n",
        "* Apply suitable data pre-processing techniques, if needed. \n",
        "* Implement a few classifiers to create your model and compare the performance metrics by plotting the curves like roc_auc, confusion matrix, etc. "
      ]
    },
    {
      "cell_type": "code",
      "metadata": {
        "id": "KE79bLl6iCx2",
        "colab_type": "code",
        "colab": {}
      },
      "source": [
        "# data analysis \n",
        "import pandas as pd\n",
        "import numpy as np\n",
        "import random as rnd\n",
        "\n",
        "# visualization\n",
        "import seaborn as sns\n",
        "import matplotlib.pyplot as plt\n",
        "%matplotlib inline\n",
        "\n",
        "# machine learning\n",
        "from sklearn.model_selection import train_test_split\n",
        "from sklearn.metrics import accuracy_score\n",
        "from sklearn.linear_model import LogisticRegression\n",
        "from sklearn.svm import SVC, LinearSVC\n",
        "from sklearn.ensemble import RandomForestClassifier,BaggingClassifier\n",
        "from sklearn.neighbors import KNeighborsClassifier\n",
        "from sklearn.naive_bayes import GaussianNB\n",
        "from sklearn.linear_model import Perceptron\n",
        "from sklearn.linear_model import SGDClassifier\n",
        "from sklearn.tree import DecisionTreeClassifier"
      ],
      "execution_count": 0,
      "outputs": []
    },
    {
      "cell_type": "code",
      "metadata": {
        "id": "eoqpA6qmZ_JT",
        "colab_type": "code",
        "outputId": "b55dfe52-a315-4d99-ceea-56eb08748a75",
        "colab": {
          "base_uri": "https://localhost:8080/",
          "height": 204
        }
      },
      "source": [
        "# importing data\n",
        "url = \"https://raw.githubusercontent.com/shala2020/shala2020.github.io/master/Lecture_Materials/Assignments/MachineLearning/L2/titanic.csv\"\n",
        "titanic_data = pd.read_csv(url)\n",
        "titanic_data.head()"
      ],
      "execution_count": 323,
      "outputs": [
        {
          "output_type": "execute_result",
          "data": {
            "text/html": [
              "<div>\n",
              "<style scoped>\n",
              "    .dataframe tbody tr th:only-of-type {\n",
              "        vertical-align: middle;\n",
              "    }\n",
              "\n",
              "    .dataframe tbody tr th {\n",
              "        vertical-align: top;\n",
              "    }\n",
              "\n",
              "    .dataframe thead th {\n",
              "        text-align: right;\n",
              "    }\n",
              "</style>\n",
              "<table border=\"1\" class=\"dataframe\">\n",
              "  <thead>\n",
              "    <tr style=\"text-align: right;\">\n",
              "      <th></th>\n",
              "      <th>PassengerId</th>\n",
              "      <th>Survived</th>\n",
              "      <th>Pclass</th>\n",
              "      <th>Name</th>\n",
              "      <th>Sex</th>\n",
              "      <th>Age</th>\n",
              "      <th>SibSp</th>\n",
              "      <th>Parch</th>\n",
              "      <th>Ticket</th>\n",
              "      <th>Fare</th>\n",
              "      <th>Cabin</th>\n",
              "      <th>Embarked</th>\n",
              "    </tr>\n",
              "  </thead>\n",
              "  <tbody>\n",
              "    <tr>\n",
              "      <th>0</th>\n",
              "      <td>1</td>\n",
              "      <td>0</td>\n",
              "      <td>3</td>\n",
              "      <td>Braund, Mr. Owen Harris</td>\n",
              "      <td>male</td>\n",
              "      <td>22.0</td>\n",
              "      <td>1</td>\n",
              "      <td>0</td>\n",
              "      <td>A/5 21171</td>\n",
              "      <td>7.2500</td>\n",
              "      <td>NaN</td>\n",
              "      <td>S</td>\n",
              "    </tr>\n",
              "    <tr>\n",
              "      <th>1</th>\n",
              "      <td>2</td>\n",
              "      <td>1</td>\n",
              "      <td>1</td>\n",
              "      <td>Cumings, Mrs. John Bradley (Florence Briggs Th...</td>\n",
              "      <td>female</td>\n",
              "      <td>38.0</td>\n",
              "      <td>1</td>\n",
              "      <td>0</td>\n",
              "      <td>PC 17599</td>\n",
              "      <td>71.2833</td>\n",
              "      <td>C85</td>\n",
              "      <td>C</td>\n",
              "    </tr>\n",
              "    <tr>\n",
              "      <th>2</th>\n",
              "      <td>3</td>\n",
              "      <td>1</td>\n",
              "      <td>3</td>\n",
              "      <td>Heikkinen, Miss. Laina</td>\n",
              "      <td>female</td>\n",
              "      <td>26.0</td>\n",
              "      <td>0</td>\n",
              "      <td>0</td>\n",
              "      <td>STON/O2. 3101282</td>\n",
              "      <td>7.9250</td>\n",
              "      <td>NaN</td>\n",
              "      <td>S</td>\n",
              "    </tr>\n",
              "    <tr>\n",
              "      <th>3</th>\n",
              "      <td>4</td>\n",
              "      <td>1</td>\n",
              "      <td>1</td>\n",
              "      <td>Futrelle, Mrs. Jacques Heath (Lily May Peel)</td>\n",
              "      <td>female</td>\n",
              "      <td>35.0</td>\n",
              "      <td>1</td>\n",
              "      <td>0</td>\n",
              "      <td>113803</td>\n",
              "      <td>53.1000</td>\n",
              "      <td>C123</td>\n",
              "      <td>S</td>\n",
              "    </tr>\n",
              "    <tr>\n",
              "      <th>4</th>\n",
              "      <td>5</td>\n",
              "      <td>0</td>\n",
              "      <td>3</td>\n",
              "      <td>Allen, Mr. William Henry</td>\n",
              "      <td>male</td>\n",
              "      <td>35.0</td>\n",
              "      <td>0</td>\n",
              "      <td>0</td>\n",
              "      <td>373450</td>\n",
              "      <td>8.0500</td>\n",
              "      <td>NaN</td>\n",
              "      <td>S</td>\n",
              "    </tr>\n",
              "  </tbody>\n",
              "</table>\n",
              "</div>"
            ],
            "text/plain": [
              "   PassengerId  Survived  Pclass  ...     Fare Cabin  Embarked\n",
              "0            1         0       3  ...   7.2500   NaN         S\n",
              "1            2         1       1  ...  71.2833   C85         C\n",
              "2            3         1       3  ...   7.9250   NaN         S\n",
              "3            4         1       1  ...  53.1000  C123         S\n",
              "4            5         0       3  ...   8.0500   NaN         S\n",
              "\n",
              "[5 rows x 12 columns]"
            ]
          },
          "metadata": {
            "tags": []
          },
          "execution_count": 323
        }
      ]
    },
    {
      "cell_type": "code",
      "metadata": {
        "id": "WzDpMsWdiJUs",
        "colab_type": "code",
        "outputId": "66b3dec5-dce7-4416-91f7-c87a5711f2fc",
        "colab": {
          "base_uri": "https://localhost:8080/",
          "height": 34
        }
      },
      "source": [
        "# analyzing by describing data\n",
        "titanic_data.shape"
      ],
      "execution_count": 324,
      "outputs": [
        {
          "output_type": "execute_result",
          "data": {
            "text/plain": [
              "(891, 12)"
            ]
          },
          "metadata": {
            "tags": []
          },
          "execution_count": 324
        }
      ]
    },
    {
      "cell_type": "code",
      "metadata": {
        "id": "PsDAl89fk56N",
        "colab_type": "code",
        "outputId": "c68d1461-203f-468a-a208-939cea79c6cf",
        "colab": {
          "base_uri": "https://localhost:8080/",
          "height": 238
        }
      },
      "source": [
        "# analyzing by describing data\n",
        "print(titanic_data.isna().sum())"
      ],
      "execution_count": 325,
      "outputs": [
        {
          "output_type": "stream",
          "text": [
            "PassengerId      0\n",
            "Survived         0\n",
            "Pclass           0\n",
            "Name             0\n",
            "Sex              0\n",
            "Age            177\n",
            "SibSp            0\n",
            "Parch            0\n",
            "Ticket           0\n",
            "Fare             0\n",
            "Cabin          687\n",
            "Embarked         2\n",
            "dtype: int64\n"
          ],
          "name": "stdout"
        }
      ]
    },
    {
      "cell_type": "code",
      "metadata": {
        "id": "VRPHkHLzQsVe",
        "colab_type": "code",
        "outputId": "4f11bf70-2f1e-4f21-d89c-545e9b74c52b",
        "colab": {
          "base_uri": "https://localhost:8080/",
          "height": 297
        }
      },
      "source": [
        "# analyzing by describing data\n",
        "titanic_data.describe()"
      ],
      "execution_count": 326,
      "outputs": [
        {
          "output_type": "execute_result",
          "data": {
            "text/html": [
              "<div>\n",
              "<style scoped>\n",
              "    .dataframe tbody tr th:only-of-type {\n",
              "        vertical-align: middle;\n",
              "    }\n",
              "\n",
              "    .dataframe tbody tr th {\n",
              "        vertical-align: top;\n",
              "    }\n",
              "\n",
              "    .dataframe thead th {\n",
              "        text-align: right;\n",
              "    }\n",
              "</style>\n",
              "<table border=\"1\" class=\"dataframe\">\n",
              "  <thead>\n",
              "    <tr style=\"text-align: right;\">\n",
              "      <th></th>\n",
              "      <th>PassengerId</th>\n",
              "      <th>Survived</th>\n",
              "      <th>Pclass</th>\n",
              "      <th>Age</th>\n",
              "      <th>SibSp</th>\n",
              "      <th>Parch</th>\n",
              "      <th>Fare</th>\n",
              "    </tr>\n",
              "  </thead>\n",
              "  <tbody>\n",
              "    <tr>\n",
              "      <th>count</th>\n",
              "      <td>891.000000</td>\n",
              "      <td>891.000000</td>\n",
              "      <td>891.000000</td>\n",
              "      <td>714.000000</td>\n",
              "      <td>891.000000</td>\n",
              "      <td>891.000000</td>\n",
              "      <td>891.000000</td>\n",
              "    </tr>\n",
              "    <tr>\n",
              "      <th>mean</th>\n",
              "      <td>446.000000</td>\n",
              "      <td>0.383838</td>\n",
              "      <td>2.308642</td>\n",
              "      <td>29.699118</td>\n",
              "      <td>0.523008</td>\n",
              "      <td>0.381594</td>\n",
              "      <td>32.204208</td>\n",
              "    </tr>\n",
              "    <tr>\n",
              "      <th>std</th>\n",
              "      <td>257.353842</td>\n",
              "      <td>0.486592</td>\n",
              "      <td>0.836071</td>\n",
              "      <td>14.526497</td>\n",
              "      <td>1.102743</td>\n",
              "      <td>0.806057</td>\n",
              "      <td>49.693429</td>\n",
              "    </tr>\n",
              "    <tr>\n",
              "      <th>min</th>\n",
              "      <td>1.000000</td>\n",
              "      <td>0.000000</td>\n",
              "      <td>1.000000</td>\n",
              "      <td>0.420000</td>\n",
              "      <td>0.000000</td>\n",
              "      <td>0.000000</td>\n",
              "      <td>0.000000</td>\n",
              "    </tr>\n",
              "    <tr>\n",
              "      <th>25%</th>\n",
              "      <td>223.500000</td>\n",
              "      <td>0.000000</td>\n",
              "      <td>2.000000</td>\n",
              "      <td>20.125000</td>\n",
              "      <td>0.000000</td>\n",
              "      <td>0.000000</td>\n",
              "      <td>7.910400</td>\n",
              "    </tr>\n",
              "    <tr>\n",
              "      <th>50%</th>\n",
              "      <td>446.000000</td>\n",
              "      <td>0.000000</td>\n",
              "      <td>3.000000</td>\n",
              "      <td>28.000000</td>\n",
              "      <td>0.000000</td>\n",
              "      <td>0.000000</td>\n",
              "      <td>14.454200</td>\n",
              "    </tr>\n",
              "    <tr>\n",
              "      <th>75%</th>\n",
              "      <td>668.500000</td>\n",
              "      <td>1.000000</td>\n",
              "      <td>3.000000</td>\n",
              "      <td>38.000000</td>\n",
              "      <td>1.000000</td>\n",
              "      <td>0.000000</td>\n",
              "      <td>31.000000</td>\n",
              "    </tr>\n",
              "    <tr>\n",
              "      <th>max</th>\n",
              "      <td>891.000000</td>\n",
              "      <td>1.000000</td>\n",
              "      <td>3.000000</td>\n",
              "      <td>80.000000</td>\n",
              "      <td>8.000000</td>\n",
              "      <td>6.000000</td>\n",
              "      <td>512.329200</td>\n",
              "    </tr>\n",
              "  </tbody>\n",
              "</table>\n",
              "</div>"
            ],
            "text/plain": [
              "       PassengerId    Survived      Pclass  ...       SibSp       Parch        Fare\n",
              "count   891.000000  891.000000  891.000000  ...  891.000000  891.000000  891.000000\n",
              "mean    446.000000    0.383838    2.308642  ...    0.523008    0.381594   32.204208\n",
              "std     257.353842    0.486592    0.836071  ...    1.102743    0.806057   49.693429\n",
              "min       1.000000    0.000000    1.000000  ...    0.000000    0.000000    0.000000\n",
              "25%     223.500000    0.000000    2.000000  ...    0.000000    0.000000    7.910400\n",
              "50%     446.000000    0.000000    3.000000  ...    0.000000    0.000000   14.454200\n",
              "75%     668.500000    1.000000    3.000000  ...    1.000000    0.000000   31.000000\n",
              "max     891.000000    1.000000    3.000000  ...    8.000000    6.000000  512.329200\n",
              "\n",
              "[8 rows x 7 columns]"
            ]
          },
          "metadata": {
            "tags": []
          },
          "execution_count": 326
        }
      ]
    },
    {
      "cell_type": "code",
      "metadata": {
        "id": "wXQxT0VkQ6Sv",
        "colab_type": "code",
        "outputId": "9d61c8ee-7542-4e86-a3c9-56f85a7b767f",
        "colab": {
          "base_uri": "https://localhost:8080/",
          "height": 340
        }
      },
      "source": [
        "# analyzing by describing data\n",
        "titanic_data.info()"
      ],
      "execution_count": 327,
      "outputs": [
        {
          "output_type": "stream",
          "text": [
            "<class 'pandas.core.frame.DataFrame'>\n",
            "RangeIndex: 891 entries, 0 to 890\n",
            "Data columns (total 12 columns):\n",
            " #   Column       Non-Null Count  Dtype  \n",
            "---  ------       --------------  -----  \n",
            " 0   PassengerId  891 non-null    int64  \n",
            " 1   Survived     891 non-null    int64  \n",
            " 2   Pclass       891 non-null    int64  \n",
            " 3   Name         891 non-null    object \n",
            " 4   Sex          891 non-null    object \n",
            " 5   Age          714 non-null    float64\n",
            " 6   SibSp        891 non-null    int64  \n",
            " 7   Parch        891 non-null    int64  \n",
            " 8   Ticket       891 non-null    object \n",
            " 9   Fare         891 non-null    float64\n",
            " 10  Cabin        204 non-null    object \n",
            " 11  Embarked     889 non-null    object \n",
            "dtypes: float64(2), int64(5), object(5)\n",
            "memory usage: 83.7+ KB\n"
          ],
          "name": "stdout"
        }
      ]
    },
    {
      "cell_type": "code",
      "metadata": {
        "id": "6ZvSE9wiRDEw",
        "colab_type": "code",
        "outputId": "66c75d57-ed70-4536-c040-a7cb8804eb20",
        "colab": {
          "base_uri": "https://localhost:8080/",
          "height": 142
        }
      },
      "source": [
        "# analyzing by pivoting Pclass feature against Survived label\n",
        "titanic_data[['Pclass', 'Survived']].groupby(['Pclass'], as_index=False).mean().sort_values(by='Survived', ascending=False)\n",
        "# We observe that there is significant correlation (>0.5) among Pclass=1 and Survived"
      ],
      "execution_count": 328,
      "outputs": [
        {
          "output_type": "execute_result",
          "data": {
            "text/html": [
              "<div>\n",
              "<style scoped>\n",
              "    .dataframe tbody tr th:only-of-type {\n",
              "        vertical-align: middle;\n",
              "    }\n",
              "\n",
              "    .dataframe tbody tr th {\n",
              "        vertical-align: top;\n",
              "    }\n",
              "\n",
              "    .dataframe thead th {\n",
              "        text-align: right;\n",
              "    }\n",
              "</style>\n",
              "<table border=\"1\" class=\"dataframe\">\n",
              "  <thead>\n",
              "    <tr style=\"text-align: right;\">\n",
              "      <th></th>\n",
              "      <th>Pclass</th>\n",
              "      <th>Survived</th>\n",
              "    </tr>\n",
              "  </thead>\n",
              "  <tbody>\n",
              "    <tr>\n",
              "      <th>0</th>\n",
              "      <td>1</td>\n",
              "      <td>0.629630</td>\n",
              "    </tr>\n",
              "    <tr>\n",
              "      <th>1</th>\n",
              "      <td>2</td>\n",
              "      <td>0.472826</td>\n",
              "    </tr>\n",
              "    <tr>\n",
              "      <th>2</th>\n",
              "      <td>3</td>\n",
              "      <td>0.242363</td>\n",
              "    </tr>\n",
              "  </tbody>\n",
              "</table>\n",
              "</div>"
            ],
            "text/plain": [
              "   Pclass  Survived\n",
              "0       1  0.629630\n",
              "1       2  0.472826\n",
              "2       3  0.242363"
            ]
          },
          "metadata": {
            "tags": []
          },
          "execution_count": 328
        }
      ]
    },
    {
      "cell_type": "code",
      "metadata": {
        "id": "C7nLzKgCVnj7",
        "colab_type": "code",
        "outputId": "e518233d-e606-48af-cd56-da4a7f701ba3",
        "colab": {
          "base_uri": "https://localhost:8080/",
          "height": 266
        }
      },
      "source": [
        "# analyzing by pivoting Parch feature against Survived label\n",
        "titanic_data[['Parch', 'Survived']].groupby(['Parch'], as_index=False).mean().sort_values(by='Survived', ascending=False)\n",
        "# We observe that Parch has zero correlation with survived for certain values"
      ],
      "execution_count": 329,
      "outputs": [
        {
          "output_type": "execute_result",
          "data": {
            "text/html": [
              "<div>\n",
              "<style scoped>\n",
              "    .dataframe tbody tr th:only-of-type {\n",
              "        vertical-align: middle;\n",
              "    }\n",
              "\n",
              "    .dataframe tbody tr th {\n",
              "        vertical-align: top;\n",
              "    }\n",
              "\n",
              "    .dataframe thead th {\n",
              "        text-align: right;\n",
              "    }\n",
              "</style>\n",
              "<table border=\"1\" class=\"dataframe\">\n",
              "  <thead>\n",
              "    <tr style=\"text-align: right;\">\n",
              "      <th></th>\n",
              "      <th>Parch</th>\n",
              "      <th>Survived</th>\n",
              "    </tr>\n",
              "  </thead>\n",
              "  <tbody>\n",
              "    <tr>\n",
              "      <th>3</th>\n",
              "      <td>3</td>\n",
              "      <td>0.600000</td>\n",
              "    </tr>\n",
              "    <tr>\n",
              "      <th>1</th>\n",
              "      <td>1</td>\n",
              "      <td>0.550847</td>\n",
              "    </tr>\n",
              "    <tr>\n",
              "      <th>2</th>\n",
              "      <td>2</td>\n",
              "      <td>0.500000</td>\n",
              "    </tr>\n",
              "    <tr>\n",
              "      <th>0</th>\n",
              "      <td>0</td>\n",
              "      <td>0.343658</td>\n",
              "    </tr>\n",
              "    <tr>\n",
              "      <th>5</th>\n",
              "      <td>5</td>\n",
              "      <td>0.200000</td>\n",
              "    </tr>\n",
              "    <tr>\n",
              "      <th>4</th>\n",
              "      <td>4</td>\n",
              "      <td>0.000000</td>\n",
              "    </tr>\n",
              "    <tr>\n",
              "      <th>6</th>\n",
              "      <td>6</td>\n",
              "      <td>0.000000</td>\n",
              "    </tr>\n",
              "  </tbody>\n",
              "</table>\n",
              "</div>"
            ],
            "text/plain": [
              "   Parch  Survived\n",
              "3      3  0.600000\n",
              "1      1  0.550847\n",
              "2      2  0.500000\n",
              "0      0  0.343658\n",
              "5      5  0.200000\n",
              "4      4  0.000000\n",
              "6      6  0.000000"
            ]
          },
          "metadata": {
            "tags": []
          },
          "execution_count": 329
        }
      ]
    },
    {
      "cell_type": "code",
      "metadata": {
        "id": "uhC9GBYDVoFL",
        "colab_type": "code",
        "outputId": "7ef034d5-4462-4ba3-dfa6-6f80c89c0a5b",
        "colab": {
          "base_uri": "https://localhost:8080/",
          "height": 111
        }
      },
      "source": [
        "# analyzing by pivoting Sex feature against Survived label\n",
        "titanic_data[['Sex', 'Survived']].groupby(['Sex'], as_index=False).mean().sort_values(by='Survived', ascending=False)\n",
        "# We observe that female passengers have very high survival rate at 74%"
      ],
      "execution_count": 330,
      "outputs": [
        {
          "output_type": "execute_result",
          "data": {
            "text/html": [
              "<div>\n",
              "<style scoped>\n",
              "    .dataframe tbody tr th:only-of-type {\n",
              "        vertical-align: middle;\n",
              "    }\n",
              "\n",
              "    .dataframe tbody tr th {\n",
              "        vertical-align: top;\n",
              "    }\n",
              "\n",
              "    .dataframe thead th {\n",
              "        text-align: right;\n",
              "    }\n",
              "</style>\n",
              "<table border=\"1\" class=\"dataframe\">\n",
              "  <thead>\n",
              "    <tr style=\"text-align: right;\">\n",
              "      <th></th>\n",
              "      <th>Sex</th>\n",
              "      <th>Survived</th>\n",
              "    </tr>\n",
              "  </thead>\n",
              "  <tbody>\n",
              "    <tr>\n",
              "      <th>0</th>\n",
              "      <td>female</td>\n",
              "      <td>0.742038</td>\n",
              "    </tr>\n",
              "    <tr>\n",
              "      <th>1</th>\n",
              "      <td>male</td>\n",
              "      <td>0.188908</td>\n",
              "    </tr>\n",
              "  </tbody>\n",
              "</table>\n",
              "</div>"
            ],
            "text/plain": [
              "      Sex  Survived\n",
              "0  female  0.742038\n",
              "1    male  0.188908"
            ]
          },
          "metadata": {
            "tags": []
          },
          "execution_count": 330
        }
      ]
    },
    {
      "cell_type": "code",
      "metadata": {
        "id": "AglW9mNnVoYY",
        "colab_type": "code",
        "outputId": "90e12946-d006-45b6-bfe0-517b0320213a",
        "colab": {
          "base_uri": "https://localhost:8080/",
          "height": 266
        }
      },
      "source": [
        "# analyzing by pivoting SibSp feature against Survived label\n",
        "titanic_data[['SibSp', 'Survived']].groupby(['SibSp'], as_index=False).mean().sort_values(by='Survived', ascending=False)\n",
        "# We observe that SibSp has zero correlation with survived for certain values"
      ],
      "execution_count": 331,
      "outputs": [
        {
          "output_type": "execute_result",
          "data": {
            "text/html": [
              "<div>\n",
              "<style scoped>\n",
              "    .dataframe tbody tr th:only-of-type {\n",
              "        vertical-align: middle;\n",
              "    }\n",
              "\n",
              "    .dataframe tbody tr th {\n",
              "        vertical-align: top;\n",
              "    }\n",
              "\n",
              "    .dataframe thead th {\n",
              "        text-align: right;\n",
              "    }\n",
              "</style>\n",
              "<table border=\"1\" class=\"dataframe\">\n",
              "  <thead>\n",
              "    <tr style=\"text-align: right;\">\n",
              "      <th></th>\n",
              "      <th>SibSp</th>\n",
              "      <th>Survived</th>\n",
              "    </tr>\n",
              "  </thead>\n",
              "  <tbody>\n",
              "    <tr>\n",
              "      <th>1</th>\n",
              "      <td>1</td>\n",
              "      <td>0.535885</td>\n",
              "    </tr>\n",
              "    <tr>\n",
              "      <th>2</th>\n",
              "      <td>2</td>\n",
              "      <td>0.464286</td>\n",
              "    </tr>\n",
              "    <tr>\n",
              "      <th>0</th>\n",
              "      <td>0</td>\n",
              "      <td>0.345395</td>\n",
              "    </tr>\n",
              "    <tr>\n",
              "      <th>3</th>\n",
              "      <td>3</td>\n",
              "      <td>0.250000</td>\n",
              "    </tr>\n",
              "    <tr>\n",
              "      <th>4</th>\n",
              "      <td>4</td>\n",
              "      <td>0.166667</td>\n",
              "    </tr>\n",
              "    <tr>\n",
              "      <th>5</th>\n",
              "      <td>5</td>\n",
              "      <td>0.000000</td>\n",
              "    </tr>\n",
              "    <tr>\n",
              "      <th>6</th>\n",
              "      <td>8</td>\n",
              "      <td>0.000000</td>\n",
              "    </tr>\n",
              "  </tbody>\n",
              "</table>\n",
              "</div>"
            ],
            "text/plain": [
              "   SibSp  Survived\n",
              "1      1  0.535885\n",
              "2      2  0.464286\n",
              "0      0  0.345395\n",
              "3      3  0.250000\n",
              "4      4  0.166667\n",
              "5      5  0.000000\n",
              "6      8  0.000000"
            ]
          },
          "metadata": {
            "tags": []
          },
          "execution_count": 331
        }
      ]
    },
    {
      "cell_type": "code",
      "metadata": {
        "id": "K3jWbL8zWrIM",
        "colab_type": "code",
        "outputId": "d8728edf-69a9-4ecd-e1e2-aaef6240bbdb",
        "colab": {
          "base_uri": "https://localhost:8080/",
          "height": 386
        }
      },
      "source": [
        "# analyzing by visualising Age data by plotting its histogram \n",
        "g = sns.FacetGrid(titanic_data, col='Survived', height=5)\n",
        "g.map(plt.hist, 'Age', bins=20)\n",
        "# We observe that infants (Age <=4) have high survival rate and oldest passengers (Age = 80) also survived.\n",
        "# Also large number of 15-25 year olds did not survive.\n",
        "# Most passengers are in 15-35 age range."
      ],
      "execution_count": 332,
      "outputs": [
        {
          "output_type": "execute_result",
          "data": {
            "text/plain": [
              "<seaborn.axisgrid.FacetGrid at 0x7fcc2c8a9240>"
            ]
          },
          "metadata": {
            "tags": []
          },
          "execution_count": 332
        },
        {
          "output_type": "display_data",
          "data": {
            "image/png": "[encoded data removed]",
            "text/plain": [
              "<Figure size 720x360 with 2 Axes>"
            ]
          },
          "metadata": {
            "tags": [],
            "needs_background": "light"
          }
        }
      ]
    },
    {
      "cell_type": "code",
      "metadata": {
        "id": "OgX8NNX9Ym82",
        "colab_type": "code",
        "outputId": "94111e12-cb20-49b1-9afc-128bb895d346",
        "colab": {
          "base_uri": "https://localhost:8080/",
          "height": 674
        }
      },
      "source": [
        "# analyzing by visualising Age data by plotting its histogram for each Pclass value\n",
        "grid = sns.FacetGrid(titanic_data, col='Survived', row='Pclass', height=3, aspect=2)\n",
        "grid.map(plt.hist, 'Age', alpha=0.75, bins=20)\n",
        "grid.add_legend()\n",
        "# We observe that Pclass=3 has most passengers and most of them did not survive.\n",
        "# Most passengers in Pclass=1 survived.\n",
        "# Infant passengers in Pclass=2 and Pclass=3 mostly survived."
      ],
      "execution_count": 333,
      "outputs": [
        {
          "output_type": "execute_result",
          "data": {
            "text/plain": [
              "<seaborn.axisgrid.FacetGrid at 0x7fcc2c8197b8>"
            ]
          },
          "metadata": {
            "tags": []
          },
          "execution_count": 333
        },
        {
          "output_type": "display_data",
          "data": {
            "image/png": "[encoded data removed]",
            "text/plain": [
              "<Figure size 872x648 with 6 Axes>"
            ]
          },
          "metadata": {
            "tags": [],
            "needs_background": "light"
          }
        }
      ]
    },
    {
      "cell_type": "code",
      "metadata": {
        "id": "OW0odrrdZpV2",
        "colab_type": "code",
        "outputId": "1658f2ba-9a97-4540-c9ae-3c265e420009",
        "colab": {
          "base_uri": "https://localhost:8080/",
          "height": 674
        }
      },
      "source": [
        "# analyzing by visualising Pclass, Survived and Sex data by plotting their pointplots for each Embarked value\n",
        "grid = sns.FacetGrid(titanic_data, row='Embarked', height=3, aspect=2)\n",
        "grid.map(sns.pointplot, 'Pclass', 'Survived', 'Sex', palette=['blue', 'purple'], order=None, hue_order=None)\n",
        "grid.add_legend()\n",
        "# We observe that Female passengers had much better survival rate than males for Embarked=S and Embarked=Q\n",
        "# There is an exception in Embarked=C where male passengers have higher survival rate. "
      ],
      "execution_count": 334,
      "outputs": [
        {
          "output_type": "execute_result",
          "data": {
            "text/plain": [
              "<seaborn.axisgrid.FacetGrid at 0x7fcc2c4e3b70>"
            ]
          },
          "metadata": {
            "tags": []
          },
          "execution_count": 334
        },
        {
          "output_type": "display_data",
          "data": {
            "image/png": "[encoded data removed]",
            "text/plain": [
              "<Figure size 502.5x648 with 3 Axes>"
            ]
          },
          "metadata": {
            "tags": [],
            "needs_background": "light"
          }
        }
      ]
    },
    {
      "cell_type": "code",
      "metadata": {
        "id": "h0Z08Vj9dpQT",
        "colab_type": "code",
        "outputId": "a84ce85d-b6e9-49b2-ef9c-70e61e09994a",
        "colab": {
          "base_uri": "https://localhost:8080/",
          "height": 674
        }
      },
      "source": [
        "# analyzing by visualising Fare and Sex data by plotting their barplots for each pair of Embarked and Survived value\n",
        "grid = sns.FacetGrid(titanic_data, row='Embarked', col='Survived', height=3, aspect=2)\n",
        "grid.map(sns.barplot, 'Sex', 'Fare', alpha=.5, ci=None, order=None)\n",
        "grid.add_legend()\n",
        "# We observe that higher fare paying passengers have better survival rate. "
      ],
      "execution_count": 335,
      "outputs": [
        {
          "output_type": "execute_result",
          "data": {
            "text/plain": [
              "<seaborn.axisgrid.FacetGrid at 0x7fcc2c4e4780>"
            ]
          },
          "metadata": {
            "tags": []
          },
          "execution_count": 335
        },
        {
          "output_type": "display_data",
          "data": {
            "image/png": "[encoded data removed]",
            "text/plain": [
              "<Figure size 872x648 with 6 Axes>"
            ]
          },
          "metadata": {
            "tags": [],
            "needs_background": "light"
          }
        }
      ]
    },
    {
      "cell_type": "code",
      "metadata": {
        "id": "YoyID5T1eYcy",
        "colab_type": "code",
        "outputId": "267dcfdd-955f-4ddb-a629-1b3ad5a99b44",
        "colab": {
          "base_uri": "https://localhost:8080/",
          "height": 51
        }
      },
      "source": [
        "# Dropping the Ticket and Cabin features as they dont have correlation with Survived\n",
        "print(\"Before\", titanic_data.shape)\n",
        "titanic_data = titanic_data.drop(['Ticket', 'Cabin'], axis=1)\n",
        "print(\"After\", titanic_data.shape)"
      ],
      "execution_count": 336,
      "outputs": [
        {
          "output_type": "stream",
          "text": [
            "Before (891, 12)\n",
            "After (891, 10)\n"
          ],
          "name": "stdout"
        }
      ]
    },
    {
      "cell_type": "code",
      "metadata": {
        "id": "Q4hrGgpDfoDz",
        "colab_type": "code",
        "outputId": "8fc2b754-d823-48f7-e9e9-25949ba6fd4c",
        "colab": {
          "base_uri": "https://localhost:8080/",
          "height": 607
        }
      },
      "source": [
        "# Analyzing if Name feature can be engineered to extract titles and test correlation between titles and survival, \n",
        "# before dropping Name and PassengerId features.\n",
        "titanic_data['Title'] = titanic_data[\"Name\"].str.extract(' ([A-Za-z]+)\\.', expand=False)\n",
        "pd.crosstab(titanic_data['Title'], titanic_data['Sex'])"
      ],
      "execution_count": 337,
      "outputs": [
        {
          "output_type": "execute_result",
          "data": {
            "text/html": [
              "<div>\n",
              "<style scoped>\n",
              "    .dataframe tbody tr th:only-of-type {\n",
              "        vertical-align: middle;\n",
              "    }\n",
              "\n",
              "    .dataframe tbody tr th {\n",
              "        vertical-align: top;\n",
              "    }\n",
              "\n",
              "    .dataframe thead th {\n",
              "        text-align: right;\n",
              "    }\n",
              "</style>\n",
              "<table border=\"1\" class=\"dataframe\">\n",
              "  <thead>\n",
              "    <tr style=\"text-align: right;\">\n",
              "      <th>Sex</th>\n",
              "      <th>female</th>\n",
              "      <th>male</th>\n",
              "    </tr>\n",
              "    <tr>\n",
              "      <th>Title</th>\n",
              "      <th></th>\n",
              "      <th></th>\n",
              "    </tr>\n",
              "  </thead>\n",
              "  <tbody>\n",
              "    <tr>\n",
              "      <th>Capt</th>\n",
              "      <td>0</td>\n",
              "      <td>1</td>\n",
              "    </tr>\n",
              "    <tr>\n",
              "      <th>Col</th>\n",
              "      <td>0</td>\n",
              "      <td>2</td>\n",
              "    </tr>\n",
              "    <tr>\n",
              "      <th>Countess</th>\n",
              "      <td>1</td>\n",
              "      <td>0</td>\n",
              "    </tr>\n",
              "    <tr>\n",
              "      <th>Don</th>\n",
              "      <td>0</td>\n",
              "      <td>1</td>\n",
              "    </tr>\n",
              "    <tr>\n",
              "      <th>Dr</th>\n",
              "      <td>1</td>\n",
              "      <td>6</td>\n",
              "    </tr>\n",
              "    <tr>\n",
              "      <th>Jonkheer</th>\n",
              "      <td>0</td>\n",
              "      <td>1</td>\n",
              "    </tr>\n",
              "    <tr>\n",
              "      <th>Lady</th>\n",
              "      <td>1</td>\n",
              "      <td>0</td>\n",
              "    </tr>\n",
              "    <tr>\n",
              "      <th>Major</th>\n",
              "      <td>0</td>\n",
              "      <td>2</td>\n",
              "    </tr>\n",
              "    <tr>\n",
              "      <th>Master</th>\n",
              "      <td>0</td>\n",
              "      <td>40</td>\n",
              "    </tr>\n",
              "    <tr>\n",
              "      <th>Miss</th>\n",
              "      <td>182</td>\n",
              "      <td>0</td>\n",
              "    </tr>\n",
              "    <tr>\n",
              "      <th>Mlle</th>\n",
              "      <td>2</td>\n",
              "      <td>0</td>\n",
              "    </tr>\n",
              "    <tr>\n",
              "      <th>Mme</th>\n",
              "      <td>1</td>\n",
              "      <td>0</td>\n",
              "    </tr>\n",
              "    <tr>\n",
              "      <th>Mr</th>\n",
              "      <td>0</td>\n",
              "      <td>517</td>\n",
              "    </tr>\n",
              "    <tr>\n",
              "      <th>Mrs</th>\n",
              "      <td>125</td>\n",
              "      <td>0</td>\n",
              "    </tr>\n",
              "    <tr>\n",
              "      <th>Ms</th>\n",
              "      <td>1</td>\n",
              "      <td>0</td>\n",
              "    </tr>\n",
              "    <tr>\n",
              "      <th>Rev</th>\n",
              "      <td>0</td>\n",
              "      <td>6</td>\n",
              "    </tr>\n",
              "    <tr>\n",
              "      <th>Sir</th>\n",
              "      <td>0</td>\n",
              "      <td>1</td>\n",
              "    </tr>\n",
              "  </tbody>\n",
              "</table>\n",
              "</div>"
            ],
            "text/plain": [
              "Sex       female  male\n",
              "Title                 \n",
              "Capt           0     1\n",
              "Col            0     2\n",
              "Countess       1     0\n",
              "Don            0     1\n",
              "Dr             1     6\n",
              "Jonkheer       0     1\n",
              "Lady           1     0\n",
              "Major          0     2\n",
              "Master         0    40\n",
              "Miss         182     0\n",
              "Mlle           2     0\n",
              "Mme            1     0\n",
              "Mr             0   517\n",
              "Mrs          125     0\n",
              "Ms             1     0\n",
              "Rev            0     6\n",
              "Sir            0     1"
            ]
          },
          "metadata": {
            "tags": []
          },
          "execution_count": 337
        }
      ]
    },
    {
      "cell_type": "code",
      "metadata": {
        "id": "GoZX3vkIgu6T",
        "colab_type": "code",
        "outputId": "ccc4c24c-41e7-44b4-a5b6-cac0f5575a46",
        "colab": {
          "base_uri": "https://localhost:8080/",
          "height": 204
        }
      },
      "source": [
        "# Replacing many titles with a more common name or classifying them as Rare.\n",
        "titanic_data['Title'] = titanic_data['Title'].replace(['Lady', 'Countess','Capt', 'Col',\\\n",
        " \t'Don', 'Dr', 'Major', 'Rev', 'Sir', 'Jonkheer', 'Dona'], 'Rare')\n",
        "titanic_data['Title'] = titanic_data['Title'].replace('Mlle', 'Miss')\n",
        "titanic_data['Title'] = titanic_data['Title'].replace('Ms', 'Miss')\n",
        "titanic_data['Title'] = titanic_data['Title'].replace('Mme', 'Mrs')\n",
        "titanic_data[['Title', 'Survived']].groupby(['Title'], as_index=False).mean().sort_values(by='Survived', ascending=False)"
      ],
      "execution_count": 338,
      "outputs": [
        {
          "output_type": "execute_result",
          "data": {
            "text/html": [
              "<div>\n",
              "<style scoped>\n",
              "    .dataframe tbody tr th:only-of-type {\n",
              "        vertical-align: middle;\n",
              "    }\n",
              "\n",
              "    .dataframe tbody tr th {\n",
              "        vertical-align: top;\n",
              "    }\n",
              "\n",
              "    .dataframe thead th {\n",
              "        text-align: right;\n",
              "    }\n",
              "</style>\n",
              "<table border=\"1\" class=\"dataframe\">\n",
              "  <thead>\n",
              "    <tr style=\"text-align: right;\">\n",
              "      <th></th>\n",
              "      <th>Title</th>\n",
              "      <th>Survived</th>\n",
              "    </tr>\n",
              "  </thead>\n",
              "  <tbody>\n",
              "    <tr>\n",
              "      <th>3</th>\n",
              "      <td>Mrs</td>\n",
              "      <td>0.793651</td>\n",
              "    </tr>\n",
              "    <tr>\n",
              "      <th>1</th>\n",
              "      <td>Miss</td>\n",
              "      <td>0.702703</td>\n",
              "    </tr>\n",
              "    <tr>\n",
              "      <th>0</th>\n",
              "      <td>Master</td>\n",
              "      <td>0.575000</td>\n",
              "    </tr>\n",
              "    <tr>\n",
              "      <th>4</th>\n",
              "      <td>Rare</td>\n",
              "      <td>0.347826</td>\n",
              "    </tr>\n",
              "    <tr>\n",
              "      <th>2</th>\n",
              "      <td>Mr</td>\n",
              "      <td>0.156673</td>\n",
              "    </tr>\n",
              "  </tbody>\n",
              "</table>\n",
              "</div>"
            ],
            "text/plain": [
              "    Title  Survived\n",
              "3     Mrs  0.793651\n",
              "1    Miss  0.702703\n",
              "0  Master  0.575000\n",
              "4    Rare  0.347826\n",
              "2      Mr  0.156673"
            ]
          },
          "metadata": {
            "tags": []
          },
          "execution_count": 338
        }
      ]
    },
    {
      "cell_type": "code",
      "metadata": {
        "id": "zHxI9ukOhxl1",
        "colab_type": "code",
        "outputId": "4cc7f09f-57e6-4b57-8050-52135d94167d",
        "colab": {
          "base_uri": "https://localhost:8080/",
          "height": 204
        }
      },
      "source": [
        "# Converting the categorical titles to ordinal values\n",
        "title_mapping = {\"Mr\": 1, \"Miss\": 2, \"Mrs\": 3, \"Master\": 4, \"Rare\": 5}\n",
        "titanic_data['Title'] = titanic_data['Title'].map(title_mapping)\n",
        "titanic_data['Title'] = titanic_data['Title'].fillna(0)\n",
        "titanic_data.head()"
      ],
      "execution_count": 339,
      "outputs": [
        {
          "output_type": "execute_result",
          "data": {
            "text/html": [
              "<div>\n",
              "<style scoped>\n",
              "    .dataframe tbody tr th:only-of-type {\n",
              "        vertical-align: middle;\n",
              "    }\n",
              "\n",
              "    .dataframe tbody tr th {\n",
              "        vertical-align: top;\n",
              "    }\n",
              "\n",
              "    .dataframe thead th {\n",
              "        text-align: right;\n",
              "    }\n",
              "</style>\n",
              "<table border=\"1\" class=\"dataframe\">\n",
              "  <thead>\n",
              "    <tr style=\"text-align: right;\">\n",
              "      <th></th>\n",
              "      <th>PassengerId</th>\n",
              "      <th>Survived</th>\n",
              "      <th>Pclass</th>\n",
              "      <th>Name</th>\n",
              "      <th>Sex</th>\n",
              "      <th>Age</th>\n",
              "      <th>SibSp</th>\n",
              "      <th>Parch</th>\n",
              "      <th>Fare</th>\n",
              "      <th>Embarked</th>\n",
              "      <th>Title</th>\n",
              "    </tr>\n",
              "  </thead>\n",
              "  <tbody>\n",
              "    <tr>\n",
              "      <th>0</th>\n",
              "      <td>1</td>\n",
              "      <td>0</td>\n",
              "      <td>3</td>\n",
              "      <td>Braund, Mr. Owen Harris</td>\n",
              "      <td>male</td>\n",
              "      <td>22.0</td>\n",
              "      <td>1</td>\n",
              "      <td>0</td>\n",
              "      <td>7.2500</td>\n",
              "      <td>S</td>\n",
              "      <td>1</td>\n",
              "    </tr>\n",
              "    <tr>\n",
              "      <th>1</th>\n",
              "      <td>2</td>\n",
              "      <td>1</td>\n",
              "      <td>1</td>\n",
              "      <td>Cumings, Mrs. John Bradley (Florence Briggs Th...</td>\n",
              "      <td>female</td>\n",
              "      <td>38.0</td>\n",
              "      <td>1</td>\n",
              "      <td>0</td>\n",
              "      <td>71.2833</td>\n",
              "      <td>C</td>\n",
              "      <td>3</td>\n",
              "    </tr>\n",
              "    <tr>\n",
              "      <th>2</th>\n",
              "      <td>3</td>\n",
              "      <td>1</td>\n",
              "      <td>3</td>\n",
              "      <td>Heikkinen, Miss. Laina</td>\n",
              "      <td>female</td>\n",
              "      <td>26.0</td>\n",
              "      <td>0</td>\n",
              "      <td>0</td>\n",
              "      <td>7.9250</td>\n",
              "      <td>S</td>\n",
              "      <td>2</td>\n",
              "    </tr>\n",
              "    <tr>\n",
              "      <th>3</th>\n",
              "      <td>4</td>\n",
              "      <td>1</td>\n",
              "      <td>1</td>\n",
              "      <td>Futrelle, Mrs. Jacques Heath (Lily May Peel)</td>\n",
              "      <td>female</td>\n",
              "      <td>35.0</td>\n",
              "      <td>1</td>\n",
              "      <td>0</td>\n",
              "      <td>53.1000</td>\n",
              "      <td>S</td>\n",
              "      <td>3</td>\n",
              "    </tr>\n",
              "    <tr>\n",
              "      <th>4</th>\n",
              "      <td>5</td>\n",
              "      <td>0</td>\n",
              "      <td>3</td>\n",
              "      <td>Allen, Mr. William Henry</td>\n",
              "      <td>male</td>\n",
              "      <td>35.0</td>\n",
              "      <td>0</td>\n",
              "      <td>0</td>\n",
              "      <td>8.0500</td>\n",
              "      <td>S</td>\n",
              "      <td>1</td>\n",
              "    </tr>\n",
              "  </tbody>\n",
              "</table>\n",
              "</div>"
            ],
            "text/plain": [
              "   PassengerId  Survived  Pclass  ...     Fare Embarked  Title\n",
              "0            1         0       3  ...   7.2500        S      1\n",
              "1            2         1       1  ...  71.2833        C      3\n",
              "2            3         1       3  ...   7.9250        S      2\n",
              "3            4         1       1  ...  53.1000        S      3\n",
              "4            5         0       3  ...   8.0500        S      1\n",
              "\n",
              "[5 rows x 11 columns]"
            ]
          },
          "metadata": {
            "tags": []
          },
          "execution_count": 339
        }
      ]
    },
    {
      "cell_type": "code",
      "metadata": {
        "id": "MclpBKC1iKfn",
        "colab_type": "code",
        "outputId": "b04cee1d-7ef6-4964-a62c-e3bf90442e90",
        "colab": {
          "base_uri": "https://localhost:8080/",
          "height": 34
        }
      },
      "source": [
        "# Dropping the Name and PassengerId features\n",
        "titanic_data = titanic_data.drop(['Name', 'PassengerId'], axis=1)\n",
        "titanic_data.shape"
      ],
      "execution_count": 340,
      "outputs": [
        {
          "output_type": "execute_result",
          "data": {
            "text/plain": [
              "(891, 9)"
            ]
          },
          "metadata": {
            "tags": []
          },
          "execution_count": 340
        }
      ]
    },
    {
      "cell_type": "code",
      "metadata": {
        "id": "MiCwApwNien9",
        "colab_type": "code",
        "outputId": "f4c4c02d-5e45-4eb6-f8db-9fb26ea809f8",
        "colab": {
          "base_uri": "https://localhost:8080/",
          "height": 204
        }
      },
      "source": [
        " # Converting Sex feature to a new feature called Gender where female=1 and male=0.\n",
        " titanic_data['Sex'] = titanic_data['Sex'].map( {'female': 1, 'male': 0} ).astype(int)\n",
        " titanic_data.head()"
      ],
      "execution_count": 341,
      "outputs": [
        {
          "output_type": "execute_result",
          "data": {
            "text/html": [
              "<div>\n",
              "<style scoped>\n",
              "    .dataframe tbody tr th:only-of-type {\n",
              "        vertical-align: middle;\n",
              "    }\n",
              "\n",
              "    .dataframe tbody tr th {\n",
              "        vertical-align: top;\n",
              "    }\n",
              "\n",
              "    .dataframe thead th {\n",
              "        text-align: right;\n",
              "    }\n",
              "</style>\n",
              "<table border=\"1\" class=\"dataframe\">\n",
              "  <thead>\n",
              "    <tr style=\"text-align: right;\">\n",
              "      <th></th>\n",
              "      <th>Survived</th>\n",
              "      <th>Pclass</th>\n",
              "      <th>Sex</th>\n",
              "      <th>Age</th>\n",
              "      <th>SibSp</th>\n",
              "      <th>Parch</th>\n",
              "      <th>Fare</th>\n",
              "      <th>Embarked</th>\n",
              "      <th>Title</th>\n",
              "    </tr>\n",
              "  </thead>\n",
              "  <tbody>\n",
              "    <tr>\n",
              "      <th>0</th>\n",
              "      <td>0</td>\n",
              "      <td>3</td>\n",
              "      <td>0</td>\n",
              "      <td>22.0</td>\n",
              "      <td>1</td>\n",
              "      <td>0</td>\n",
              "      <td>7.2500</td>\n",
              "      <td>S</td>\n",
              "      <td>1</td>\n",
              "    </tr>\n",
              "    <tr>\n",
              "      <th>1</th>\n",
              "      <td>1</td>\n",
              "      <td>1</td>\n",
              "      <td>1</td>\n",
              "      <td>38.0</td>\n",
              "      <td>1</td>\n",
              "      <td>0</td>\n",
              "      <td>71.2833</td>\n",
              "      <td>C</td>\n",
              "      <td>3</td>\n",
              "    </tr>\n",
              "    <tr>\n",
              "      <th>2</th>\n",
              "      <td>1</td>\n",
              "      <td>3</td>\n",
              "      <td>1</td>\n",
              "      <td>26.0</td>\n",
              "      <td>0</td>\n",
              "      <td>0</td>\n",
              "      <td>7.9250</td>\n",
              "      <td>S</td>\n",
              "      <td>2</td>\n",
              "    </tr>\n",
              "    <tr>\n",
              "      <th>3</th>\n",
              "      <td>1</td>\n",
              "      <td>1</td>\n",
              "      <td>1</td>\n",
              "      <td>35.0</td>\n",
              "      <td>1</td>\n",
              "      <td>0</td>\n",
              "      <td>53.1000</td>\n",
              "      <td>S</td>\n",
              "      <td>3</td>\n",
              "    </tr>\n",
              "    <tr>\n",
              "      <th>4</th>\n",
              "      <td>0</td>\n",
              "      <td>3</td>\n",
              "      <td>0</td>\n",
              "      <td>35.0</td>\n",
              "      <td>0</td>\n",
              "      <td>0</td>\n",
              "      <td>8.0500</td>\n",
              "      <td>S</td>\n",
              "      <td>1</td>\n",
              "    </tr>\n",
              "  </tbody>\n",
              "</table>\n",
              "</div>"
            ],
            "text/plain": [
              "   Survived  Pclass  Sex   Age  SibSp  Parch     Fare Embarked  Title\n",
              "0         0       3    0  22.0      1      0   7.2500        S      1\n",
              "1         1       1    1  38.0      1      0  71.2833        C      3\n",
              "2         1       3    1  26.0      0      0   7.9250        S      2\n",
              "3         1       1    1  35.0      1      0  53.1000        S      3\n",
              "4         0       3    0  35.0      0      0   8.0500        S      1"
            ]
          },
          "metadata": {
            "tags": []
          },
          "execution_count": 341
        }
      ]
    },
    {
      "cell_type": "code",
      "metadata": {
        "id": "oRRIfRN5imb1",
        "colab_type": "code",
        "colab": {
          "base_uri": "https://localhost:8080/",
          "height": 374
        },
        "outputId": "7e827f55-dcde-4df5-df02-7738421b58ee"
      },
      "source": [
        "# Completing Age feature by guessing missing or null values by using other correlated features\n",
        "# Preparing an empty array to contain guessed Age values based on Pclass and Gender combinations\n",
        "guess_ages = np.zeros((2,3))\n",
        "\n",
        "# Iterating over Sex (0 or 1) and Pclass (1, 2, 3) features to calculate guessed values of Age for the six combinations.\n",
        "for i in range(0, 2):\n",
        "  for j in range(0, 3):\n",
        "    guess_df = titanic_data[(titanic_data['Sex'] == i) & (titanic_data['Pclass'] == j+1)]['Age'].dropna()\n",
        "    age_guess = guess_df.median()\n",
        "    # Converting random age float to nearest .5 age\n",
        "    guess_ages[i,j] = int( age_guess/0.5 + 0.5 ) * 0.5\n",
        "for i in range(0, 2):\n",
        "  for j in range(0, 3):\n",
        "    titanic_data.loc[(titanic_data[\"Age\"].isnull()) & (titanic_data[\"Sex\"] == i) & (titanic_data[\"Pclass\"] == j+1),\"Age\"] = guess_ages[i,j]\n",
        "titanic_data['Age'] = titanic_data['Age'].astype(int)\n",
        "print(titanic_data.isna().sum())\n",
        "titanic_data.head()"
      ],
      "execution_count": 342,
      "outputs": [
        {
          "output_type": "stream",
          "text": [
            "Survived    0\n",
            "Pclass      0\n",
            "Sex         0\n",
            "Age         0\n",
            "SibSp       0\n",
            "Parch       0\n",
            "Fare        0\n",
            "Embarked    2\n",
            "Title       0\n",
            "dtype: int64\n"
          ],
          "name": "stdout"
        },
        {
          "output_type": "execute_result",
          "data": {
            "text/html": [
              "<div>\n",
              "<style scoped>\n",
              "    .dataframe tbody tr th:only-of-type {\n",
              "        vertical-align: middle;\n",
              "    }\n",
              "\n",
              "    .dataframe tbody tr th {\n",
              "        vertical-align: top;\n",
              "    }\n",
              "\n",
              "    .dataframe thead th {\n",
              "        text-align: right;\n",
              "    }\n",
              "</style>\n",
              "<table border=\"1\" class=\"dataframe\">\n",
              "  <thead>\n",
              "    <tr style=\"text-align: right;\">\n",
              "      <th></th>\n",
              "      <th>Survived</th>\n",
              "      <th>Pclass</th>\n",
              "      <th>Sex</th>\n",
              "      <th>Age</th>\n",
              "      <th>SibSp</th>\n",
              "      <th>Parch</th>\n",
              "      <th>Fare</th>\n",
              "      <th>Embarked</th>\n",
              "      <th>Title</th>\n",
              "    </tr>\n",
              "  </thead>\n",
              "  <tbody>\n",
              "    <tr>\n",
              "      <th>0</th>\n",
              "      <td>0</td>\n",
              "      <td>3</td>\n",
              "      <td>0</td>\n",
              "      <td>22</td>\n",
              "      <td>1</td>\n",
              "      <td>0</td>\n",
              "      <td>7.2500</td>\n",
              "      <td>S</td>\n",
              "      <td>1</td>\n",
              "    </tr>\n",
              "    <tr>\n",
              "      <th>1</th>\n",
              "      <td>1</td>\n",
              "      <td>1</td>\n",
              "      <td>1</td>\n",
              "      <td>38</td>\n",
              "      <td>1</td>\n",
              "      <td>0</td>\n",
              "      <td>71.2833</td>\n",
              "      <td>C</td>\n",
              "      <td>3</td>\n",
              "    </tr>\n",
              "    <tr>\n",
              "      <th>2</th>\n",
              "      <td>1</td>\n",
              "      <td>3</td>\n",
              "      <td>1</td>\n",
              "      <td>26</td>\n",
              "      <td>0</td>\n",
              "      <td>0</td>\n",
              "      <td>7.9250</td>\n",
              "      <td>S</td>\n",
              "      <td>2</td>\n",
              "    </tr>\n",
              "    <tr>\n",
              "      <th>3</th>\n",
              "      <td>1</td>\n",
              "      <td>1</td>\n",
              "      <td>1</td>\n",
              "      <td>35</td>\n",
              "      <td>1</td>\n",
              "      <td>0</td>\n",
              "      <td>53.1000</td>\n",
              "      <td>S</td>\n",
              "      <td>3</td>\n",
              "    </tr>\n",
              "    <tr>\n",
              "      <th>4</th>\n",
              "      <td>0</td>\n",
              "      <td>3</td>\n",
              "      <td>0</td>\n",
              "      <td>35</td>\n",
              "      <td>0</td>\n",
              "      <td>0</td>\n",
              "      <td>8.0500</td>\n",
              "      <td>S</td>\n",
              "      <td>1</td>\n",
              "    </tr>\n",
              "  </tbody>\n",
              "</table>\n",
              "</div>"
            ],
            "text/plain": [
              "   Survived  Pclass  Sex  Age  SibSp  Parch     Fare Embarked  Title\n",
              "0         0       3    0   22      1      0   7.2500        S      1\n",
              "1         1       1    1   38      1      0  71.2833        C      3\n",
              "2         1       3    1   26      0      0   7.9250        S      2\n",
              "3         1       1    1   35      1      0  53.1000        S      3\n",
              "4         0       3    0   35      0      0   8.0500        S      1"
            ]
          },
          "metadata": {
            "tags": []
          },
          "execution_count": 342
        }
      ]
    },
    {
      "cell_type": "code",
      "metadata": {
        "id": "-lNOqjOARR_m",
        "colab_type": "code",
        "colab": {
          "base_uri": "https://localhost:8080/",
          "height": 204
        },
        "outputId": "9ec3ce85-c703-412e-9882-fb89d21c0255"
      },
      "source": [
        "# Creating Age bands and determining correlations with Survived\n",
        "titanic_data['AgeBand'] = pd.cut(titanic_data['Age'], 5)\n",
        "titanic_data[['AgeBand', 'Survived']].groupby(['AgeBand'], as_index=False).mean().sort_values(by='AgeBand', ascending=True)"
      ],
      "execution_count": 343,
      "outputs": [
        {
          "output_type": "execute_result",
          "data": {
            "text/html": [
              "<div>\n",
              "<style scoped>\n",
              "    .dataframe tbody tr th:only-of-type {\n",
              "        vertical-align: middle;\n",
              "    }\n",
              "\n",
              "    .dataframe tbody tr th {\n",
              "        vertical-align: top;\n",
              "    }\n",
              "\n",
              "    .dataframe thead th {\n",
              "        text-align: right;\n",
              "    }\n",
              "</style>\n",
              "<table border=\"1\" class=\"dataframe\">\n",
              "  <thead>\n",
              "    <tr style=\"text-align: right;\">\n",
              "      <th></th>\n",
              "      <th>AgeBand</th>\n",
              "      <th>Survived</th>\n",
              "    </tr>\n",
              "  </thead>\n",
              "  <tbody>\n",
              "    <tr>\n",
              "      <th>0</th>\n",
              "      <td>(-0.08, 16.0]</td>\n",
              "      <td>0.550000</td>\n",
              "    </tr>\n",
              "    <tr>\n",
              "      <th>1</th>\n",
              "      <td>(16.0, 32.0]</td>\n",
              "      <td>0.337374</td>\n",
              "    </tr>\n",
              "    <tr>\n",
              "      <th>2</th>\n",
              "      <td>(32.0, 48.0]</td>\n",
              "      <td>0.412037</td>\n",
              "    </tr>\n",
              "    <tr>\n",
              "      <th>3</th>\n",
              "      <td>(48.0, 64.0]</td>\n",
              "      <td>0.434783</td>\n",
              "    </tr>\n",
              "    <tr>\n",
              "      <th>4</th>\n",
              "      <td>(64.0, 80.0]</td>\n",
              "      <td>0.090909</td>\n",
              "    </tr>\n",
              "  </tbody>\n",
              "</table>\n",
              "</div>"
            ],
            "text/plain": [
              "         AgeBand  Survived\n",
              "0  (-0.08, 16.0]  0.550000\n",
              "1   (16.0, 32.0]  0.337374\n",
              "2   (32.0, 48.0]  0.412037\n",
              "3   (48.0, 64.0]  0.434783\n",
              "4   (64.0, 80.0]  0.090909"
            ]
          },
          "metadata": {
            "tags": []
          },
          "execution_count": 343
        }
      ]
    },
    {
      "cell_type": "code",
      "metadata": {
        "id": "f12KJS1bUrR9",
        "colab_type": "code",
        "colab": {
          "base_uri": "https://localhost:8080/",
          "height": 204
        },
        "outputId": "a6546e31-ea22-45f0-cefb-3d5c0fc3b05e"
      },
      "source": [
        "# Replacing Age with ordinal values based on these bands\n",
        "titanic_data.loc[titanic_data['Age'] <= 16, 'Age'] = 0\n",
        "titanic_data.loc[(titanic_data['Age'] > 16) & (titanic_data['Age'] <= 32), 'Age'] = 1\n",
        "titanic_data.loc[(titanic_data['Age'] > 32) & (titanic_data['Age'] <= 48), 'Age'] = 2\n",
        "titanic_data.loc[(titanic_data['Age'] > 48) & (titanic_data['Age'] <= 64), 'Age'] = 3\n",
        "titanic_data.loc[titanic_data['Age'] > 64, 'Age']\n",
        "titanic_data.head()"
      ],
      "execution_count": 344,
      "outputs": [
        {
          "output_type": "execute_result",
          "data": {
            "text/html": [
              "<div>\n",
              "<style scoped>\n",
              "    .dataframe tbody tr th:only-of-type {\n",
              "        vertical-align: middle;\n",
              "    }\n",
              "\n",
              "    .dataframe tbody tr th {\n",
              "        vertical-align: top;\n",
              "    }\n",
              "\n",
              "    .dataframe thead th {\n",
              "        text-align: right;\n",
              "    }\n",
              "</style>\n",
              "<table border=\"1\" class=\"dataframe\">\n",
              "  <thead>\n",
              "    <tr style=\"text-align: right;\">\n",
              "      <th></th>\n",
              "      <th>Survived</th>\n",
              "      <th>Pclass</th>\n",
              "      <th>Sex</th>\n",
              "      <th>Age</th>\n",
              "      <th>SibSp</th>\n",
              "      <th>Parch</th>\n",
              "      <th>Fare</th>\n",
              "      <th>Embarked</th>\n",
              "      <th>Title</th>\n",
              "      <th>AgeBand</th>\n",
              "    </tr>\n",
              "  </thead>\n",
              "  <tbody>\n",
              "    <tr>\n",
              "      <th>0</th>\n",
              "      <td>0</td>\n",
              "      <td>3</td>\n",
              "      <td>0</td>\n",
              "      <td>1</td>\n",
              "      <td>1</td>\n",
              "      <td>0</td>\n",
              "      <td>7.2500</td>\n",
              "      <td>S</td>\n",
              "      <td>1</td>\n",
              "      <td>(16.0, 32.0]</td>\n",
              "    </tr>\n",
              "    <tr>\n",
              "      <th>1</th>\n",
              "      <td>1</td>\n",
              "      <td>1</td>\n",
              "      <td>1</td>\n",
              "      <td>2</td>\n",
              "      <td>1</td>\n",
              "      <td>0</td>\n",
              "      <td>71.2833</td>\n",
              "      <td>C</td>\n",
              "      <td>3</td>\n",
              "      <td>(32.0, 48.0]</td>\n",
              "    </tr>\n",
              "    <tr>\n",
              "      <th>2</th>\n",
              "      <td>1</td>\n",
              "      <td>3</td>\n",
              "      <td>1</td>\n",
              "      <td>1</td>\n",
              "      <td>0</td>\n",
              "      <td>0</td>\n",
              "      <td>7.9250</td>\n",
              "      <td>S</td>\n",
              "      <td>2</td>\n",
              "      <td>(16.0, 32.0]</td>\n",
              "    </tr>\n",
              "    <tr>\n",
              "      <th>3</th>\n",
              "      <td>1</td>\n",
              "      <td>1</td>\n",
              "      <td>1</td>\n",
              "      <td>2</td>\n",
              "      <td>1</td>\n",
              "      <td>0</td>\n",
              "      <td>53.1000</td>\n",
              "      <td>S</td>\n",
              "      <td>3</td>\n",
              "      <td>(32.0, 48.0]</td>\n",
              "    </tr>\n",
              "    <tr>\n",
              "      <th>4</th>\n",
              "      <td>0</td>\n",
              "      <td>3</td>\n",
              "      <td>0</td>\n",
              "      <td>2</td>\n",
              "      <td>0</td>\n",
              "      <td>0</td>\n",
              "      <td>8.0500</td>\n",
              "      <td>S</td>\n",
              "      <td>1</td>\n",
              "      <td>(32.0, 48.0]</td>\n",
              "    </tr>\n",
              "  </tbody>\n",
              "</table>\n",
              "</div>"
            ],
            "text/plain": [
              "   Survived  Pclass  Sex  Age  ...     Fare  Embarked  Title       AgeBand\n",
              "0         0       3    0    1  ...   7.2500         S      1  (16.0, 32.0]\n",
              "1         1       1    1    2  ...  71.2833         C      3  (32.0, 48.0]\n",
              "2         1       3    1    1  ...   7.9250         S      2  (16.0, 32.0]\n",
              "3         1       1    1    2  ...  53.1000         S      3  (32.0, 48.0]\n",
              "4         0       3    0    2  ...   8.0500         S      1  (32.0, 48.0]\n",
              "\n",
              "[5 rows x 10 columns]"
            ]
          },
          "metadata": {
            "tags": []
          },
          "execution_count": 344
        }
      ]
    },
    {
      "cell_type": "code",
      "metadata": {
        "id": "0sEhs_4hVG8S",
        "colab_type": "code",
        "colab": {
          "base_uri": "https://localhost:8080/",
          "height": 204
        },
        "outputId": "59d0a339-9a3f-4cfd-ef7f-e21f36345128"
      },
      "source": [
        "# Removing the AgeBand feature\n",
        "titanic_data = titanic_data.drop(['AgeBand'], axis=1)\n",
        "titanic_data.head()"
      ],
      "execution_count": 345,
      "outputs": [
        {
          "output_type": "execute_result",
          "data": {
            "text/html": [
              "<div>\n",
              "<style scoped>\n",
              "    .dataframe tbody tr th:only-of-type {\n",
              "        vertical-align: middle;\n",
              "    }\n",
              "\n",
              "    .dataframe tbody tr th {\n",
              "        vertical-align: top;\n",
              "    }\n",
              "\n",
              "    .dataframe thead th {\n",
              "        text-align: right;\n",
              "    }\n",
              "</style>\n",
              "<table border=\"1\" class=\"dataframe\">\n",
              "  <thead>\n",
              "    <tr style=\"text-align: right;\">\n",
              "      <th></th>\n",
              "      <th>Survived</th>\n",
              "      <th>Pclass</th>\n",
              "      <th>Sex</th>\n",
              "      <th>Age</th>\n",
              "      <th>SibSp</th>\n",
              "      <th>Parch</th>\n",
              "      <th>Fare</th>\n",
              "      <th>Embarked</th>\n",
              "      <th>Title</th>\n",
              "    </tr>\n",
              "  </thead>\n",
              "  <tbody>\n",
              "    <tr>\n",
              "      <th>0</th>\n",
              "      <td>0</td>\n",
              "      <td>3</td>\n",
              "      <td>0</td>\n",
              "      <td>1</td>\n",
              "      <td>1</td>\n",
              "      <td>0</td>\n",
              "      <td>7.2500</td>\n",
              "      <td>S</td>\n",
              "      <td>1</td>\n",
              "    </tr>\n",
              "    <tr>\n",
              "      <th>1</th>\n",
              "      <td>1</td>\n",
              "      <td>1</td>\n",
              "      <td>1</td>\n",
              "      <td>2</td>\n",
              "      <td>1</td>\n",
              "      <td>0</td>\n",
              "      <td>71.2833</td>\n",
              "      <td>C</td>\n",
              "      <td>3</td>\n",
              "    </tr>\n",
              "    <tr>\n",
              "      <th>2</th>\n",
              "      <td>1</td>\n",
              "      <td>3</td>\n",
              "      <td>1</td>\n",
              "      <td>1</td>\n",
              "      <td>0</td>\n",
              "      <td>0</td>\n",
              "      <td>7.9250</td>\n",
              "      <td>S</td>\n",
              "      <td>2</td>\n",
              "    </tr>\n",
              "    <tr>\n",
              "      <th>3</th>\n",
              "      <td>1</td>\n",
              "      <td>1</td>\n",
              "      <td>1</td>\n",
              "      <td>2</td>\n",
              "      <td>1</td>\n",
              "      <td>0</td>\n",
              "      <td>53.1000</td>\n",
              "      <td>S</td>\n",
              "      <td>3</td>\n",
              "    </tr>\n",
              "    <tr>\n",
              "      <th>4</th>\n",
              "      <td>0</td>\n",
              "      <td>3</td>\n",
              "      <td>0</td>\n",
              "      <td>2</td>\n",
              "      <td>0</td>\n",
              "      <td>0</td>\n",
              "      <td>8.0500</td>\n",
              "      <td>S</td>\n",
              "      <td>1</td>\n",
              "    </tr>\n",
              "  </tbody>\n",
              "</table>\n",
              "</div>"
            ],
            "text/plain": [
              "   Survived  Pclass  Sex  Age  SibSp  Parch     Fare Embarked  Title\n",
              "0         0       3    0    1      1      0   7.2500        S      1\n",
              "1         1       1    1    2      1      0  71.2833        C      3\n",
              "2         1       3    1    1      0      0   7.9250        S      2\n",
              "3         1       1    1    2      1      0  53.1000        S      3\n",
              "4         0       3    0    2      0      0   8.0500        S      1"
            ]
          },
          "metadata": {
            "tags": []
          },
          "execution_count": 345
        }
      ]
    },
    {
      "cell_type": "code",
      "metadata": {
        "id": "GomZ84tgVawk",
        "colab_type": "code",
        "colab": {
          "base_uri": "https://localhost:8080/",
          "height": 159
        },
        "outputId": "76c8d08b-9760-4709-dc2b-2a4027b51062"
      },
      "source": [
        "# Completing the Embarked feature by filling the missing values with the most common occurrence\n",
        "freq_port = titanic_data[\"Embarked\"].dropna().mode()[0]\n",
        "print(freq_port)\n",
        "titanic_data['Embarked'] = titanic_data['Embarked'].fillna(freq_port)\n",
        "titanic_data[['Embarked', 'Survived']].groupby(['Embarked'], as_index=False).mean().sort_values(by='Survived', ascending=False)"
      ],
      "execution_count": 346,
      "outputs": [
        {
          "output_type": "stream",
          "text": [
            "S\n"
          ],
          "name": "stdout"
        },
        {
          "output_type": "execute_result",
          "data": {
            "text/html": [
              "<div>\n",
              "<style scoped>\n",
              "    .dataframe tbody tr th:only-of-type {\n",
              "        vertical-align: middle;\n",
              "    }\n",
              "\n",
              "    .dataframe tbody tr th {\n",
              "        vertical-align: top;\n",
              "    }\n",
              "\n",
              "    .dataframe thead th {\n",
              "        text-align: right;\n",
              "    }\n",
              "</style>\n",
              "<table border=\"1\" class=\"dataframe\">\n",
              "  <thead>\n",
              "    <tr style=\"text-align: right;\">\n",
              "      <th></th>\n",
              "      <th>Embarked</th>\n",
              "      <th>Survived</th>\n",
              "    </tr>\n",
              "  </thead>\n",
              "  <tbody>\n",
              "    <tr>\n",
              "      <th>0</th>\n",
              "      <td>C</td>\n",
              "      <td>0.553571</td>\n",
              "    </tr>\n",
              "    <tr>\n",
              "      <th>1</th>\n",
              "      <td>Q</td>\n",
              "      <td>0.389610</td>\n",
              "    </tr>\n",
              "    <tr>\n",
              "      <th>2</th>\n",
              "      <td>S</td>\n",
              "      <td>0.339009</td>\n",
              "    </tr>\n",
              "  </tbody>\n",
              "</table>\n",
              "</div>"
            ],
            "text/plain": [
              "  Embarked  Survived\n",
              "0        C  0.553571\n",
              "1        Q  0.389610\n",
              "2        S  0.339009"
            ]
          },
          "metadata": {
            "tags": []
          },
          "execution_count": 346
        }
      ]
    },
    {
      "cell_type": "code",
      "metadata": {
        "id": "aOQbyBfhWo2I",
        "colab_type": "code",
        "colab": {
          "base_uri": "https://localhost:8080/",
          "height": 204
        },
        "outputId": "e6b3d8f3-3f3a-494d-8664-3f65277a6b22"
      },
      "source": [
        "# Converting the Embarked feature by creating a new numeric Port feature\n",
        "titanic_data['Embarked'] = titanic_data['Embarked'].map( {'S': 0, 'C': 1, 'Q': 2} ).astype(int)\n",
        "titanic_data.head()"
      ],
      "execution_count": 347,
      "outputs": [
        {
          "output_type": "execute_result",
          "data": {
            "text/html": [
              "<div>\n",
              "<style scoped>\n",
              "    .dataframe tbody tr th:only-of-type {\n",
              "        vertical-align: middle;\n",
              "    }\n",
              "\n",
              "    .dataframe tbody tr th {\n",
              "        vertical-align: top;\n",
              "    }\n",
              "\n",
              "    .dataframe thead th {\n",
              "        text-align: right;\n",
              "    }\n",
              "</style>\n",
              "<table border=\"1\" class=\"dataframe\">\n",
              "  <thead>\n",
              "    <tr style=\"text-align: right;\">\n",
              "      <th></th>\n",
              "      <th>Survived</th>\n",
              "      <th>Pclass</th>\n",
              "      <th>Sex</th>\n",
              "      <th>Age</th>\n",
              "      <th>SibSp</th>\n",
              "      <th>Parch</th>\n",
              "      <th>Fare</th>\n",
              "      <th>Embarked</th>\n",
              "      <th>Title</th>\n",
              "    </tr>\n",
              "  </thead>\n",
              "  <tbody>\n",
              "    <tr>\n",
              "      <th>0</th>\n",
              "      <td>0</td>\n",
              "      <td>3</td>\n",
              "      <td>0</td>\n",
              "      <td>1</td>\n",
              "      <td>1</td>\n",
              "      <td>0</td>\n",
              "      <td>7.2500</td>\n",
              "      <td>0</td>\n",
              "      <td>1</td>\n",
              "    </tr>\n",
              "    <tr>\n",
              "      <th>1</th>\n",
              "      <td>1</td>\n",
              "      <td>1</td>\n",
              "      <td>1</td>\n",
              "      <td>2</td>\n",
              "      <td>1</td>\n",
              "      <td>0</td>\n",
              "      <td>71.2833</td>\n",
              "      <td>1</td>\n",
              "      <td>3</td>\n",
              "    </tr>\n",
              "    <tr>\n",
              "      <th>2</th>\n",
              "      <td>1</td>\n",
              "      <td>3</td>\n",
              "      <td>1</td>\n",
              "      <td>1</td>\n",
              "      <td>0</td>\n",
              "      <td>0</td>\n",
              "      <td>7.9250</td>\n",
              "      <td>0</td>\n",
              "      <td>2</td>\n",
              "    </tr>\n",
              "    <tr>\n",
              "      <th>3</th>\n",
              "      <td>1</td>\n",
              "      <td>1</td>\n",
              "      <td>1</td>\n",
              "      <td>2</td>\n",
              "      <td>1</td>\n",
              "      <td>0</td>\n",
              "      <td>53.1000</td>\n",
              "      <td>0</td>\n",
              "      <td>3</td>\n",
              "    </tr>\n",
              "    <tr>\n",
              "      <th>4</th>\n",
              "      <td>0</td>\n",
              "      <td>3</td>\n",
              "      <td>0</td>\n",
              "      <td>2</td>\n",
              "      <td>0</td>\n",
              "      <td>0</td>\n",
              "      <td>8.0500</td>\n",
              "      <td>0</td>\n",
              "      <td>1</td>\n",
              "    </tr>\n",
              "  </tbody>\n",
              "</table>\n",
              "</div>"
            ],
            "text/plain": [
              "   Survived  Pclass  Sex  Age  SibSp  Parch     Fare  Embarked  Title\n",
              "0         0       3    0    1      1      0   7.2500         0      1\n",
              "1         1       1    1    2      1      0  71.2833         1      3\n",
              "2         1       3    1    1      0      0   7.9250         0      2\n",
              "3         1       1    1    2      1      0  53.1000         0      3\n",
              "4         0       3    0    2      0      0   8.0500         0      1"
            ]
          },
          "metadata": {
            "tags": []
          },
          "execution_count": 347
        }
      ]
    },
    {
      "cell_type": "code",
      "metadata": {
        "id": "xMcQe2fXW-Sy",
        "colab_type": "code",
        "colab": {}
      },
      "source": [
        "X = titanic_data.drop(\"Survived\", axis=1)\n",
        "y = titanic_data[\"Survived\"]"
      ],
      "execution_count": 0,
      "outputs": []
    },
    {
      "cell_type": "code",
      "metadata": {
        "id": "w7V9gDHiYDaG",
        "colab_type": "code",
        "colab": {
          "base_uri": "https://localhost:8080/",
          "height": 34
        },
        "outputId": "d216b72c-2cd0-4bde-fe0d-77f142c7cff6"
      },
      "source": [
        "SEED=1\n",
        "X_train,X_test,Y_train,Y_test = train_test_split(X,y,test_size=0.2,random_state=SEED)\n",
        "X_train.shape, Y_train.shape, X_test.shape, Y_test.shape"
      ],
      "execution_count": 349,
      "outputs": [
        {
          "output_type": "execute_result",
          "data": {
            "text/plain": [
              "((712, 8), (712,), (179, 8), (179,))"
            ]
          },
          "metadata": {
            "tags": []
          },
          "execution_count": 349
        }
      ]
    },
    {
      "cell_type": "code",
      "metadata": {
        "id": "7pR46dPZZF2J",
        "colab_type": "code",
        "colab": {
          "base_uri": "https://localhost:8080/",
          "height": 34
        },
        "outputId": "3f99edaa-ee0b-49cc-f702-2b0dc6da0d0f"
      },
      "source": [
        "# Logistic Regression\n",
        "\n",
        "logreg = LogisticRegression(random_state=SEED)\n",
        "logreg.fit(X_train, Y_train)\n",
        "Y_pred = logreg.predict(X_test)\n",
        "acc_log = round(logreg.score(X_train, Y_train) * 100, 2)\n",
        "accuracy_score_log = accuracy_score(Y_test,Y_pred)\n",
        "acc_log"
      ],
      "execution_count": 350,
      "outputs": [
        {
          "output_type": "execute_result",
          "data": {
            "text/plain": [
              "80.06"
            ]
          },
          "metadata": {
            "tags": []
          },
          "execution_count": 350
        }
      ]
    },
    {
      "cell_type": "code",
      "metadata": {
        "id": "bVwOu9A7ZkdO",
        "colab_type": "code",
        "colab": {
          "base_uri": "https://localhost:8080/",
          "height": 34
        },
        "outputId": "3e5db7a4-d8f1-4bcf-e052-f2876a51d325"
      },
      "source": [
        "# Support Vector Machines\n",
        "\n",
        "svc = SVC(random_state=SEED)\n",
        "svc.fit(X_train, Y_train)\n",
        "Y_pred = svc.predict(X_test)\n",
        "acc_svc = round(svc.score(X_train, Y_train) * 100, 2)\n",
        "accuracy_score_svc = accuracy_score(Y_test,Y_pred)\n",
        "acc_svc"
      ],
      "execution_count": 351,
      "outputs": [
        {
          "output_type": "execute_result",
          "data": {
            "text/plain": [
              "69.38"
            ]
          },
          "metadata": {
            "tags": []
          },
          "execution_count": 351
        }
      ]
    },
    {
      "cell_type": "code",
      "metadata": {
        "id": "JWeZwOk9Zla3",
        "colab_type": "code",
        "colab": {
          "base_uri": "https://localhost:8080/",
          "height": 34
        },
        "outputId": "6233cb3b-afe2-4bec-9e73-72efcbb979c2"
      },
      "source": [
        "# k-Nearest Neighbours\n",
        "\n",
        "knn = KNeighborsClassifier(n_neighbors = 3)\n",
        "knn.fit(X_train, Y_train)\n",
        "Y_pred = knn.predict(X_test)\n",
        "acc_knn = round(knn.score(X_train, Y_train) * 100, 2)\n",
        "accuracy_score_knn = accuracy_score(Y_test,Y_pred)\n",
        "acc_knn"
      ],
      "execution_count": 352,
      "outputs": [
        {
          "output_type": "execute_result",
          "data": {
            "text/plain": [
              "87.22"
            ]
          },
          "metadata": {
            "tags": []
          },
          "execution_count": 352
        }
      ]
    },
    {
      "cell_type": "code",
      "metadata": {
        "id": "IyHviWIjZy9L",
        "colab_type": "code",
        "colab": {
          "base_uri": "https://localhost:8080/",
          "height": 34
        },
        "outputId": "1fd05add-2fe4-4edd-aca1-51d72fa1f485"
      },
      "source": [
        "# Gaussian Naive Bayes\n",
        "\n",
        "gaussian = GaussianNB()\n",
        "gaussian.fit(X_train, Y_train)\n",
        "Y_pred = gaussian.predict(X_test)\n",
        "acc_gaussian = round(gaussian.score(X_train, Y_train) * 100, 2)\n",
        "accuracy_score_gaussian = accuracy_score(Y_test,Y_pred)\n",
        "acc_gaussian"
      ],
      "execution_count": 353,
      "outputs": [
        {
          "output_type": "execute_result",
          "data": {
            "text/plain": [
              "81.32"
            ]
          },
          "metadata": {
            "tags": []
          },
          "execution_count": 353
        }
      ]
    },
    {
      "cell_type": "code",
      "metadata": {
        "id": "hUODveV8Z5By",
        "colab_type": "code",
        "colab": {
          "base_uri": "https://localhost:8080/",
          "height": 34
        },
        "outputId": "8ae3bf4d-79df-4ea7-b435-3aa658c60a6f"
      },
      "source": [
        "# Perceptron\n",
        "\n",
        "perceptron = Perceptron(random_state=SEED)\n",
        "perceptron.fit(X_train, Y_train)\n",
        "Y_pred = perceptron.predict(X_test)\n",
        "acc_perceptron = round(perceptron.score(X_train, Y_train) * 100, 2)\n",
        "accuracy_score_perceptron = accuracy_score(Y_test,Y_pred)\n",
        "acc_perceptron"
      ],
      "execution_count": 354,
      "outputs": [
        {
          "output_type": "execute_result",
          "data": {
            "text/plain": [
              "72.47"
            ]
          },
          "metadata": {
            "tags": []
          },
          "execution_count": 354
        }
      ]
    },
    {
      "cell_type": "code",
      "metadata": {
        "id": "kg2dSs3jZ9sm",
        "colab_type": "code",
        "colab": {
          "base_uri": "https://localhost:8080/",
          "height": 34
        },
        "outputId": "893d6225-e688-4ea2-f37b-4c310ec6c143"
      },
      "source": [
        "# Linear SVC\n",
        "\n",
        "import warnings\n",
        "warnings.filterwarnings(\"ignore\")\n",
        "linear_svc = LinearSVC(max_iter=100000, random_state=SEED)\n",
        "linear_svc.fit(X_train, Y_train)\n",
        "Y_pred = linear_svc.predict(X_test)\n",
        "acc_linear_svc = round(linear_svc.score(X_train, Y_train) * 100, 2)\n",
        "accuracy_score_linear_svc = accuracy_score(Y_test,Y_pred)\n",
        "acc_linear_svc"
      ],
      "execution_count": 355,
      "outputs": [
        {
          "output_type": "execute_result",
          "data": {
            "text/plain": [
              "79.78"
            ]
          },
          "metadata": {
            "tags": []
          },
          "execution_count": 355
        }
      ]
    },
    {
      "cell_type": "code",
      "metadata": {
        "id": "kdH1syGfaBsJ",
        "colab_type": "code",
        "colab": {
          "base_uri": "https://localhost:8080/",
          "height": 34
        },
        "outputId": "eaf3197b-563c-4955-f992-41174fbf9549"
      },
      "source": [
        "# Stochastic Gradient Descent\n",
        "\n",
        "sgd = SGDClassifier(random_state=SEED)\n",
        "sgd.fit(X_train, Y_train)\n",
        "Y_pred = sgd.predict(X_test)\n",
        "acc_sgd = round(sgd.score(X_train, Y_train) * 100, 2)\n",
        "accuracy_score_sgd = accuracy_score(Y_test,Y_pred)\n",
        "acc_sgd"
      ],
      "execution_count": 356,
      "outputs": [
        {
          "output_type": "execute_result",
          "data": {
            "text/plain": [
              "78.79"
            ]
          },
          "metadata": {
            "tags": []
          },
          "execution_count": 356
        }
      ]
    },
    {
      "cell_type": "code",
      "metadata": {
        "id": "x1qu5EW8dRsP",
        "colab_type": "code",
        "colab": {
          "base_uri": "https://localhost:8080/",
          "height": 34
        },
        "outputId": "a6071886-4d50-437f-d31c-07e2ed4f2c26"
      },
      "source": [
        "# Decision Tree\n",
        "\n",
        "decision_tree = DecisionTreeClassifier(random_state=SEED)\n",
        "decision_tree.fit(X_train, Y_train)\n",
        "Y_pred = decision_tree.predict(X_test)\n",
        "acc_decision_tree = round(decision_tree.score(X_train, Y_train) * 100, 2)\n",
        "accuracy_score_decision_tree = accuracy_score(Y_test,Y_pred)\n",
        "acc_decision_tree"
      ],
      "execution_count": 357,
      "outputs": [
        {
          "output_type": "execute_result",
          "data": {
            "text/plain": [
              "94.8"
            ]
          },
          "metadata": {
            "tags": []
          },
          "execution_count": 357
        }
      ]
    },
    {
      "cell_type": "code",
      "metadata": {
        "id": "KV9E8voedb2C",
        "colab_type": "code",
        "colab": {
          "base_uri": "https://localhost:8080/",
          "height": 34
        },
        "outputId": "110fcd2b-30d7-48f1-d54d-87c71a65c873"
      },
      "source": [
        "# Random Forest\n",
        "\n",
        "random_forest = RandomForestClassifier(n_estimators=100, random_state=SEED)\n",
        "random_forest.fit(X_train, Y_train)\n",
        "Y_pred = random_forest.predict(X_test)\n",
        "random_forest.score(X_train, Y_train)\n",
        "acc_random_forest = round(random_forest.score(X_train, Y_train) * 100, 2)\n",
        "accuracy_score_random_forest = accuracy_score(Y_test,Y_pred)\n",
        "acc_random_forest\n"
      ],
      "execution_count": 358,
      "outputs": [
        {
          "output_type": "execute_result",
          "data": {
            "text/plain": [
              "94.8"
            ]
          },
          "metadata": {
            "tags": []
          },
          "execution_count": 358
        }
      ]
    },
    {
      "cell_type": "code",
      "metadata": {
        "id": "npeeg8Lsdcfw",
        "colab_type": "code",
        "colab": {
          "base_uri": "https://localhost:8080/",
          "height": 328
        },
        "outputId": "48feeed2-888a-4283-a673-31998e151954"
      },
      "source": [
        "models = pd.DataFrame({\n",
        "    'Model': ['Support Vector Machines', 'KNN', 'Logistic Regression', \n",
        "              'Random Forest', 'Naive Bayes', 'Perceptron', \n",
        "              'Stochastic Gradient Decent', 'Linear SVC', \n",
        "              'Decision Tree'],\n",
        "    'Score': [acc_svc, acc_knn, acc_log, \n",
        "              acc_random_forest, acc_gaussian, acc_perceptron, \n",
        "              acc_sgd, acc_linear_svc, acc_decision_tree]})\n",
        "models.sort_values(by='Score', ascending=False)"
      ],
      "execution_count": 359,
      "outputs": [
        {
          "output_type": "execute_result",
          "data": {
            "text/html": [
              "<div>\n",
              "<style scoped>\n",
              "    .dataframe tbody tr th:only-of-type {\n",
              "        vertical-align: middle;\n",
              "    }\n",
              "\n",
              "    .dataframe tbody tr th {\n",
              "        vertical-align: top;\n",
              "    }\n",
              "\n",
              "    .dataframe thead th {\n",
              "        text-align: right;\n",
              "    }\n",
              "</style>\n",
              "<table border=\"1\" class=\"dataframe\">\n",
              "  <thead>\n",
              "    <tr style=\"text-align: right;\">\n",
              "      <th></th>\n",
              "      <th>Model</th>\n",
              "      <th>Score</th>\n",
              "    </tr>\n",
              "  </thead>\n",
              "  <tbody>\n",
              "    <tr>\n",
              "      <th>3</th>\n",
              "      <td>Random Forest</td>\n",
              "      <td>94.80</td>\n",
              "    </tr>\n",
              "    <tr>\n",
              "      <th>8</th>\n",
              "      <td>Decision Tree</td>\n",
              "      <td>94.80</td>\n",
              "    </tr>\n",
              "    <tr>\n",
              "      <th>1</th>\n",
              "      <td>KNN</td>\n",
              "      <td>87.22</td>\n",
              "    </tr>\n",
              "    <tr>\n",
              "      <th>4</th>\n",
              "      <td>Naive Bayes</td>\n",
              "      <td>81.32</td>\n",
              "    </tr>\n",
              "    <tr>\n",
              "      <th>2</th>\n",
              "      <td>Logistic Regression</td>\n",
              "      <td>80.06</td>\n",
              "    </tr>\n",
              "    <tr>\n",
              "      <th>7</th>\n",
              "      <td>Linear SVC</td>\n",
              "      <td>79.78</td>\n",
              "    </tr>\n",
              "    <tr>\n",
              "      <th>6</th>\n",
              "      <td>Stochastic Gradient Decent</td>\n",
              "      <td>78.79</td>\n",
              "    </tr>\n",
              "    <tr>\n",
              "      <th>5</th>\n",
              "      <td>Perceptron</td>\n",
              "      <td>72.47</td>\n",
              "    </tr>\n",
              "    <tr>\n",
              "      <th>0</th>\n",
              "      <td>Support Vector Machines</td>\n",
              "      <td>69.38</td>\n",
              "    </tr>\n",
              "  </tbody>\n",
              "</table>\n",
              "</div>"
            ],
            "text/plain": [
              "                        Model  Score\n",
              "3               Random Forest  94.80\n",
              "8               Decision Tree  94.80\n",
              "1                         KNN  87.22\n",
              "4                 Naive Bayes  81.32\n",
              "2         Logistic Regression  80.06\n",
              "7                  Linear SVC  79.78\n",
              "6  Stochastic Gradient Decent  78.79\n",
              "5                  Perceptron  72.47\n",
              "0     Support Vector Machines  69.38"
            ]
          },
          "metadata": {
            "tags": []
          },
          "execution_count": 359
        }
      ]
    },
    {
      "cell_type": "code",
      "metadata": {
        "id": "0UXOfkISdiQr",
        "colab_type": "code",
        "colab": {
          "base_uri": "https://localhost:8080/",
          "height": 170
        },
        "outputId": "2e962034-426f-4fb0-c77c-4341432717a4"
      },
      "source": [
        "classifiers = ['Support Vector Machines', 'KNN', 'Logistic Regression', \n",
        "              'Random Forest', 'Naive Bayes', 'Perceptron', \n",
        "              'Stochastic Gradient Decent', 'Linear SVC', \n",
        "              'Decision Tree']\n",
        "scores = [accuracy_score_svc, accuracy_score_knn, accuracy_score_log, accuracy_score_random_forest,\n",
        "          accuracy_score_gaussian, accuracy_score_perceptron, accuracy_score_sgd,\n",
        "          accuracy_score_linear_svc, accuracy_score_decision_tree]\n",
        "for i in range(9):\n",
        "  print('{:s}: {:f}'.format(classifiers[i],scores[i]))"
      ],
      "execution_count": 388,
      "outputs": [
        {
          "output_type": "stream",
          "text": [
            "Support Vector Machines: 0.653631\n",
            "KNN: 0.782123\n",
            "Logistic Regression: 0.776536\n",
            "Random Forest: 0.787709\n",
            "Naive Bayes: 0.765363\n",
            "Perceptron: 0.703911\n",
            "Stochastic Gradient Decent: 0.776536\n",
            "Linear SVC: 0.765363\n",
            "Decision Tree: 0.759777\n"
          ],
          "name": "stdout"
        }
      ]
    },
    {
      "cell_type": "code",
      "metadata": {
        "id": "__GQmKAcmucL",
        "colab_type": "code",
        "colab": {
          "base_uri": "https://localhost:8080/",
          "height": 68
        },
        "outputId": "0caadbae-a41e-4fa3-9d5c-232eb11aca58"
      },
      "source": [
        "# Using Boosting Techniques to improve accuracy\n",
        "from sklearn.ensemble import AdaBoostClassifier,GradientBoostingClassifier\n",
        "from xgboost import XGBClassifier\n",
        "ad=AdaBoostClassifier(base_estimator=decision_tree,n_estimators=100)\n",
        "gd=GradientBoostingClassifier(n_estimators=100)\n",
        "xgb=XGBClassifier(base_estimator=decision_tree,n_estimators=100)\n",
        "boosters=[('Adaboost',ad),('GradientBoost',gd),('XGBoost',xgb)]\n",
        "for booster_name,booster in boosters:\n",
        "   booster.fit(X_train,Y_train)\n",
        "   Y_pred=booster.predict(X_test)\n",
        "   print('{:s}:{:.3f}'.format(booster_name,accuracy_score(Y_test,Y_pred)))"
      ],
      "execution_count": 392,
      "outputs": [
        {
          "output_type": "stream",
          "text": [
            "Adaboost:0.760\n",
            "GradientBoost:0.788\n",
            "XGBoost:0.788\n"
          ],
          "name": "stdout"
        }
      ]
    },
    {
      "cell_type": "code",
      "metadata": {
        "id": "1F_RoqdjnZF-",
        "colab_type": "code",
        "colab": {
          "base_uri": "https://localhost:8080/",
          "height": 1000
        },
        "outputId": "1fb01ec2-b82a-43fe-bbec-0044c032863d"
      },
      "source": [
        "# Metrics\n",
        "from sklearn.metrics import confusion_matrix,roc_auc_score,roc_curve,classification_report\n",
        "# Calculating the metrics for all the models\n",
        "models=[('Support Vector Machines',svc), ('KNN',knn), ('Logistic Regression',logreg), \n",
        "        ('Random Forest',random_forest), ('Naive Bayes', gaussian), ('Perceptron', perceptron), \n",
        "        ('Stochastic Gradient Decent', sgd), ('Linear SVC', linear_svc), \n",
        "        ('Decision Tree', decision_tree)]\n",
        "for model_name,model in models:\n",
        "  print(model_name)\n",
        "  Y_pred=model.predict(X_test)\n",
        "  print(confusion_matrix(Y_test,Y_pred))\n",
        "  print('*'*30)\n",
        "  print(classification_report(Y_test,Y_pred))\n",
        "  print('ROC_AUC: {:.2f}'.format(roc_auc_score(Y_test,Y_pred)))\n",
        "  print('\\n')"
      ],
      "execution_count": 394,
      "outputs": [
        {
          "output_type": "stream",
          "text": [
            "Support Vector Machines\n",
            "[[97  9]\n",
            " [53 20]]\n",
            "******************************\n",
            "              precision    recall  f1-score   support\n",
            "\n",
            "           0       0.65      0.92      0.76       106\n",
            "           1       0.69      0.27      0.39        73\n",
            "\n",
            "    accuracy                           0.65       179\n",
            "   macro avg       0.67      0.59      0.57       179\n",
            "weighted avg       0.66      0.65      0.61       179\n",
            "\n",
            "ROC_AUC: 0.59\n",
            "\n",
            "\n",
            "KNN\n",
            "[[96 10]\n",
            " [29 44]]\n",
            "******************************\n",
            "              precision    recall  f1-score   support\n",
            "\n",
            "           0       0.77      0.91      0.83       106\n",
            "           1       0.81      0.60      0.69        73\n",
            "\n",
            "    accuracy                           0.78       179\n",
            "   macro avg       0.79      0.75      0.76       179\n",
            "weighted avg       0.79      0.78      0.77       179\n",
            "\n",
            "ROC_AUC: 0.75\n",
            "\n",
            "\n",
            "Logistic Regression\n",
            "[[91 15]\n",
            " [25 48]]\n",
            "******************************\n",
            "              precision    recall  f1-score   support\n",
            "\n",
            "           0       0.78      0.86      0.82       106\n",
            "           1       0.76      0.66      0.71        73\n",
            "\n",
            "    accuracy                           0.78       179\n",
            "   macro avg       0.77      0.76      0.76       179\n",
            "weighted avg       0.78      0.78      0.77       179\n",
            "\n",
            "ROC_AUC: 0.76\n",
            "\n",
            "\n",
            "Random Forest\n",
            "[[94 12]\n",
            " [26 47]]\n",
            "******************************\n",
            "              precision    recall  f1-score   support\n",
            "\n",
            "           0       0.78      0.89      0.83       106\n",
            "           1       0.80      0.64      0.71        73\n",
            "\n",
            "    accuracy                           0.79       179\n",
            "   macro avg       0.79      0.77      0.77       179\n",
            "weighted avg       0.79      0.79      0.78       179\n",
            "\n",
            "ROC_AUC: 0.77\n",
            "\n",
            "\n",
            "Naive Bayes\n",
            "[[86 20]\n",
            " [22 51]]\n",
            "******************************\n",
            "              precision    recall  f1-score   support\n",
            "\n",
            "           0       0.80      0.81      0.80       106\n",
            "           1       0.72      0.70      0.71        73\n",
            "\n",
            "    accuracy                           0.77       179\n",
            "   macro avg       0.76      0.75      0.76       179\n",
            "weighted avg       0.76      0.77      0.76       179\n",
            "\n",
            "ROC_AUC: 0.75\n",
            "\n",
            "\n",
            "Perceptron\n",
            "[[62 44]\n",
            " [ 9 64]]\n",
            "******************************\n",
            "              precision    recall  f1-score   support\n",
            "\n",
            "           0       0.87      0.58      0.70       106\n",
            "           1       0.59      0.88      0.71        73\n",
            "\n",
            "    accuracy                           0.70       179\n",
            "   macro avg       0.73      0.73      0.70       179\n",
            "weighted avg       0.76      0.70      0.70       179\n",
            "\n",
            "ROC_AUC: 0.73\n",
            "\n",
            "\n",
            "Stochastic Gradient Decent\n",
            "[[79 27]\n",
            " [13 60]]\n",
            "******************************\n",
            "              precision    recall  f1-score   support\n",
            "\n",
            "           0       0.86      0.75      0.80       106\n",
            "           1       0.69      0.82      0.75        73\n",
            "\n",
            "    accuracy                           0.78       179\n",
            "   macro avg       0.77      0.78      0.77       179\n",
            "weighted avg       0.79      0.78      0.78       179\n",
            "\n",
            "ROC_AUC: 0.78\n",
            "\n",
            "\n",
            "Linear SVC\n",
            "[[90 16]\n",
            " [26 47]]\n",
            "******************************\n",
            "              precision    recall  f1-score   support\n",
            "\n",
            "           0       0.78      0.85      0.81       106\n",
            "           1       0.75      0.64      0.69        73\n",
            "\n",
            "    accuracy                           0.77       179\n",
            "   macro avg       0.76      0.75      0.75       179\n",
            "weighted avg       0.76      0.77      0.76       179\n",
            "\n",
            "ROC_AUC: 0.75\n",
            "\n",
            "\n",
            "Decision Tree\n",
            "[[93 13]\n",
            " [30 43]]\n",
            "******************************\n",
            "              precision    recall  f1-score   support\n",
            "\n",
            "           0       0.76      0.88      0.81       106\n",
            "           1       0.77      0.59      0.67        73\n",
            "\n",
            "    accuracy                           0.76       179\n",
            "   macro avg       0.76      0.73      0.74       179\n",
            "weighted avg       0.76      0.76      0.75       179\n",
            "\n",
            "ROC_AUC: 0.73\n",
            "\n",
            "\n"
          ],
          "name": "stdout"
        }
      ]
    },
    {
      "cell_type": "code",
      "metadata": {
        "id": "yPb95ifioxJU",
        "colab_type": "code",
        "colab": {
          "base_uri": "https://localhost:8080/",
          "height": 295
        },
        "outputId": "51ea121a-0b67-4272-8c99-6eae7caaedf9"
      },
      "source": [
        "# Plotting ROC curve for Decision Tree\n",
        "from sklearn.metrics import plot_roc_curve\n",
        "ax=plt.gca()\n",
        "decision_tree_disp = plot_roc_curve(decision_tree,X_test,Y_test,ax=ax)\n",
        "plt.xlabel('FPR')\n",
        "plt.ylabel('TPR')\n",
        "plt.title('Decision Tree Classifier ROC')\n",
        "plt.plot([0,1],[0,1],'r--')\n",
        "plt.show()"
      ],
      "execution_count": 396,
      "outputs": [
        {
          "output_type": "display_data",
          "data": {
            "image/png": "[encoded data removed]",
            "text/plain": [
              "<Figure size 432x288 with 1 Axes>"
            ]
          },
          "metadata": {
            "tags": [],
            "needs_background": "light"
          }
        }
      ]
    },
    {
      "cell_type": "code",
      "metadata": {
        "id": "9-f2f8y_pT7B",
        "colab_type": "code",
        "colab": {
          "base_uri": "https://localhost:8080/",
          "height": 295
        },
        "outputId": "105a7c05-a202-4dc0-a7c6-5587bc964c99"
      },
      "source": [
        "# Plotting ROC curve for Random Forest\n",
        "from sklearn.metrics import plot_roc_curve\n",
        "ax=plt.gca()\n",
        "random_forest_disp = plot_roc_curve(random_forest,X_test,Y_test,ax=ax)\n",
        "plt.xlabel('FPR')\n",
        "plt.ylabel('TPR')\n",
        "plt.title('Random Forest Classifier ROC')\n",
        "plt.plot([0,1],[0,1],'r--')\n",
        "plt.show()"
      ],
      "execution_count": 398,
      "outputs": [
        {
          "output_type": "display_data",
          "data": {
            "image/png": "[encoded data removed]",
            "text/plain": [
              "<Figure size 432x288 with 1 Axes>"
            ]
          },
          "metadata": {
            "tags": [],
            "needs_background": "light"
          }
        }
      ]
    },
    {
      "cell_type": "code",
      "metadata": {
        "id": "1Fh5zoMXphuD",
        "colab_type": "code",
        "colab": {
          "base_uri": "https://localhost:8080/",
          "height": 295
        },
        "outputId": "3ef12c97-9b64-40cb-ccf7-d9ea1cd7840d"
      },
      "source": [
        "# Plotting ROC curve for Stochastic Gradient Descent\n",
        "from sklearn.metrics import plot_roc_curve\n",
        "ax=plt.gca()\n",
        "sgd_disp = plot_roc_curve(sgd,X_test,Y_test,ax=ax)\n",
        "plt.xlabel('FPR')\n",
        "plt.ylabel('TPR')\n",
        "plt.title('Stochastic Gradient Descent Classifier ROC')\n",
        "plt.plot([0,1],[0,1],'r--')\n",
        "plt.show()"
      ],
      "execution_count": 400,
      "outputs": [
        {
          "output_type": "display_data",
          "data": {
            "image/png": "[encoded data removed]",
            "text/plain": [
              "<Figure size 432x288 with 1 Axes>"
            ]
          },
          "metadata": {
            "tags": [],
            "needs_background": "light"
          }
        }
      ]
    },
    {
      "cell_type": "code",
      "metadata": {
        "id": "wSyDnwIRpshA",
        "colab_type": "code",
        "colab": {
          "base_uri": "https://localhost:8080/",
          "height": 295
        },
        "outputId": "a1671a30-31e5-4936-8aac-b140f67ea0e4"
      },
      "source": [
        "# Plotting ROC curve for k-Nearest Neighbours\n",
        "from sklearn.metrics import plot_roc_curve\n",
        "ax=plt.gca()\n",
        "knn_disp = plot_roc_curve(knn,X_test,Y_test,ax=ax)\n",
        "plt.xlabel('FPR')\n",
        "plt.ylabel('TPR')\n",
        "plt.title('k-Nearest Neighbours Classifier ROC')\n",
        "plt.plot([0,1],[0,1],'r--')\n",
        "plt.show()"
      ],
      "execution_count": 402,
      "outputs": [
        {
          "output_type": "display_data",
          "data": {
            "image/png": "[encoded data removed]",
            "text/plain": [
              "<Figure size 432x288 with 1 Axes>"
            ]
          },
          "metadata": {
            "tags": [],
            "needs_background": "light"
          }
        }
      ]
    },
    {
      "cell_type": "code",
      "metadata": {
        "id": "_oND4jbwp-UK",
        "colab_type": "code",
        "colab": {
          "base_uri": "https://localhost:8080/",
          "height": 295
        },
        "outputId": "33f540fd-385e-47fc-af4e-9c2696a58047"
      },
      "source": [
        "# Plotting ROC curve for Support Vector Machines\n",
        "from sklearn.metrics import plot_roc_curve\n",
        "ax=plt.gca()\n",
        "svc_disp = plot_roc_curve(svc,X_test,Y_test,ax=ax)\n",
        "plt.xlabel('FPR')\n",
        "plt.ylabel('TPR')\n",
        "plt.title('Support Vector Machine ROC')\n",
        "plt.plot([0,1],[0,1],'r--')\n",
        "plt.show()"
      ],
      "execution_count": 404,
      "outputs": [
        {
          "output_type": "display_data",
          "data": {
            "image/png": "[encoded data removed]",
            "text/plain": [
              "<Figure size 432x288 with 1 Axes>"
            ]
          },
          "metadata": {
            "tags": [],
            "needs_background": "light"
          }
        }
      ]
    },
    {
      "cell_type": "code",
      "metadata": {
        "id": "c_7YVcMXqJ3j",
        "colab_type": "code",
        "colab": {
          "base_uri": "https://localhost:8080/",
          "height": 295
        },
        "outputId": "75d30583-3511-46bb-c546-f7a143b44a25"
      },
      "source": [
        "# Plotting ROC curve for Linear SVC\n",
        "from sklearn.metrics import plot_roc_curve\n",
        "ax=plt.gca()\n",
        "linear_svc_disp = plot_roc_curve(linear_svc,X_test,Y_test,ax=ax)\n",
        "plt.xlabel('FPR')\n",
        "plt.ylabel('TPR')\n",
        "plt.title('Linear SVC ROC')\n",
        "plt.plot([0,1],[0,1],'r--')\n",
        "plt.show()"
      ],
      "execution_count": 406,
      "outputs": [
        {
          "output_type": "display_data",
          "data": {
            "image/png": "[encoded data removed]",
            "text/plain": [
              "<Figure size 432x288 with 1 Axes>"
            ]
          },
          "metadata": {
            "tags": [],
            "needs_background": "light"
          }
        }
      ]
    },
    {
      "cell_type": "code",
      "metadata": {
        "id": "EarIE1WJqUm9",
        "colab_type": "code",
        "colab": {
          "base_uri": "https://localhost:8080/",
          "height": 295
        },
        "outputId": "758a848e-131f-467d-d7d7-314315c7cefe"
      },
      "source": [
        "# Plotting ROC curve for Gaussian Naive Bayes\n",
        "from sklearn.metrics import plot_roc_curve\n",
        "ax=plt.gca()\n",
        "gaussian_disp = plot_roc_curve(gaussian,X_test,Y_test,ax=ax)\n",
        "plt.xlabel('FPR')\n",
        "plt.ylabel('TPR')\n",
        "plt.title('Gaussian Naive Bayes Classifier ROC')\n",
        "plt.plot([0,1],[0,1],'r--')\n",
        "plt.show()"
      ],
      "execution_count": 408,
      "outputs": [
        {
          "output_type": "display_data",
          "data": {
            "image/png": "[encoded data removed]",
            "text/plain": [
              "<Figure size 432x288 with 1 Axes>"
            ]
          },
          "metadata": {
            "tags": [],
            "needs_background": "light"
          }
        }
      ]
    },
    {
      "cell_type": "code",
      "metadata": {
        "id": "BkZC15PPqwyn",
        "colab_type": "code",
        "colab": {
          "base_uri": "https://localhost:8080/",
          "height": 295
        },
        "outputId": "a3ebc475-5555-4c48-bae6-f8e8d9b36fbe"
      },
      "source": [
        "# Plotting ROC curve for Perceptron\n",
        "from sklearn.metrics import plot_roc_curve\n",
        "ax=plt.gca()\n",
        "perceptron_disp = plot_roc_curve(perceptron,X_test,Y_test,ax=ax)\n",
        "plt.xlabel('FPR')\n",
        "plt.ylabel('TPR')\n",
        "plt.title('Perceptron Classifier ROC')\n",
        "plt.plot([0,1],[0,1],'r--')\n",
        "plt.show()"
      ],
      "execution_count": 409,
      "outputs": [
        {
          "output_type": "display_data",
          "data": {
            "image/png": "[encoded data removed]",
            "text/plain": [
              "<Figure size 432x288 with 1 Axes>"
            ]
          },
          "metadata": {
            "tags": [],
            "needs_background": "light"
          }
        }
      ]
    },
    {
      "cell_type": "code",
      "metadata": {
        "id": "q8yIXd0dq4k-",
        "colab_type": "code",
        "colab": {
          "base_uri": "https://localhost:8080/",
          "height": 295
        },
        "outputId": "6b3d4947-101c-4c79-911f-12c3934237e9"
      },
      "source": [
        "# Plotting ROC curve for Logistic Regression\n",
        "from sklearn.metrics import plot_roc_curve\n",
        "ax=plt.gca()\n",
        "logreg_disp = plot_roc_curve(logreg,X_test,Y_test,ax=ax)\n",
        "plt.xlabel('FPR')\n",
        "plt.ylabel('TPR')\n",
        "plt.title('Logistic Regression Classifier ROC')\n",
        "plt.plot([0,1],[0,1],'r--')\n",
        "plt.show()"
      ],
      "execution_count": 410,
      "outputs": [
        {
          "output_type": "display_data",
          "data": {
            "image/png": "[encoded data removed]",
            "text/plain": [
              "<Figure size 432x288 with 1 Axes>"
            ]
          },
          "metadata": {
            "tags": [],
            "needs_background": "light"
          }
        }
      ]
    }
  ]
}
