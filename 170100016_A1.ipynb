{
  "nbformat": 4,
  "nbformat_minor": 0,
  "metadata": {
    "colab": {
      "name": "170100016_A1.ipynb",
      "provenance": [],
      "authorship_tag": "ABX9TyNa58QGRp8tw8k2sV3zCTU6",
      "include_colab_link": true
    },
    "kernelspec": {
      "name": "python3",
      "display_name": "Python 3"
    }
  },
  "cells": [
    {
      "cell_type": "markdown",
      "metadata": {
        "id": "view-in-github",
        "colab_type": "text"
      },
      "source": [
        "<a href=\"https://colab.research.google.com/github/sp1999/SHALA2020/blob/master/170100016_A1.ipynb\" target=\"_parent\"><img src=\"https://colab.research.google.com/assets/colab-badge.svg\" alt=\"Open In Colab\"/></a>"
      ]
    },
    {
      "cell_type": "markdown",
      "metadata": {
        "id": "HZ8nHMfa1qqr",
        "colab_type": "text"
      },
      "source": [
        "---\n",
        "\n",
        "# **Question 1 Solution**\n",
        "\n",
        "---"
      ]
    },
    {
      "cell_type": "code",
      "metadata": {
        "id": "2pWKrzCT2bKm",
        "colab_type": "code",
        "colab": {
          "base_uri": "https://localhost:8080/",
          "height": 272
        },
        "outputId": "0b38fdc8-cfef-48b3-857e-bcea89e64f31"
      },
      "source": [
        "# function that takes an integer n as input and outputs all prime numbers less than the input number\n",
        "\n",
        "def get_primenumbers(n):\n",
        "  n = str(n)         # converting the input to string first irrespective of whether it is int,float or string data type\n",
        "  try:\n",
        "    n = float(n)\n",
        "    isfloat = True         # checking whether the input is a float or not\n",
        "  except:\n",
        "    isfloat = False\n",
        "  if isfloat:             \n",
        "    if n == int(n):           # checking if the input is an integer or not\n",
        "      n = int(n)\n",
        "    else:\n",
        "      n = int(n) + 1\n",
        "    if n < 0:\n",
        "      return 'You have entered wrong input'\n",
        "    if n <= 2:\n",
        "      return []\n",
        "    res = []                # list to store all the prime numbers less than the given input\n",
        "    is_prime = [True for i in range(n)]       # list to check if the number is prime or not\n",
        "    is_prime[0] = False\n",
        "    is_prime[1] = False\n",
        "    for i in range(2,n):\n",
        "      if is_prime[i]:       # if the current number is prime, then all it's multiples must not be prime\n",
        "        for j in range(i*i,n,i):    \n",
        "          is_prime[j] = False        # marking the multiples of current prime number \n",
        "    for x in range(n):\n",
        "      if is_prime[x]:\n",
        "        res.append(x)      # appending the number to res if the number is prime\n",
        "    return res\n",
        "  else:           #  if the input does not satisfy any of the above conditions, then it must be an invalid input \n",
        "    return 'You have entered wrong input'\n",
        "print(get_primenumbers(9))                   # sample input 1\n",
        "print(get_primenumbers('9'))                 # sample input 2\n",
        "print(get_primenumbers('xyz'))               # sample input 3 \n",
        "print(get_primenumbers(7.2))                 # sample input 4\n",
        "print(get_primenumbers(3))                   # sample input 5\n",
        "print(get_primenumbers('100.00'))            # test case 1\n",
        "print(get_primenumbers(0.0000))              # test case 2\n",
        "print(get_primenumbers(-26))                 # test case 3\n",
        "print(get_primenumbers('1.32'))              # test case 4\n",
        "print(get_primenumbers(2.00))                # test case 5\n",
        "print(get_primenumbers(91.5))                # test case 6\n",
        "print(get_primenumbers('-65.3'))             # test case 7\n",
        "print(get_primenumbers('45.9330'))           # test case 8\n",
        "print(get_primenumbers('545dsvcr5'))         # test case 9\n",
        "print(get_primenumbers(11.00000))            # test case 10"
      ],
      "execution_count": 69,
      "outputs": [
        {
          "output_type": "stream",
          "text": [
            "[2, 3, 5, 7]\n",
            "[2, 3, 5, 7]\n",
            "You have entered wrong input\n",
            "[2, 3, 5, 7]\n",
            "[2]\n",
            "[2, 3, 5, 7, 11, 13, 17, 19, 23, 29, 31, 37, 41, 43, 47, 53, 59, 61, 67, 71, 73, 79, 83, 89, 97]\n",
            "[]\n",
            "You have entered wrong input\n",
            "[]\n",
            "[]\n",
            "[2, 3, 5, 7, 11, 13, 17, 19, 23, 29, 31, 37, 41, 43, 47, 53, 59, 61, 67, 71, 73, 79, 83, 89]\n",
            "You have entered wrong input\n",
            "[2, 3, 5, 7, 11, 13, 17, 19, 23, 29, 31, 37, 41, 43]\n",
            "You have entered wrong input\n",
            "[2, 3, 5, 7]\n"
          ],
          "name": "stdout"
        }
      ]
    },
    {
      "cell_type": "markdown",
      "metadata": {
        "id": "NfT-vr4yEbHd",
        "colab_type": "text"
      },
      "source": [
        "---\n",
        "\n",
        "# **Question 2 Solution**\n",
        "\n",
        "---"
      ]
    },
    {
      "cell_type": "code",
      "metadata": {
        "id": "Ci_gElae8are",
        "colab_type": "code",
        "colab": {
          "base_uri": "https://localhost:8080/",
          "height": 1000
        },
        "outputId": "5b701e0d-7856-4400-a50e-173961a2399b"
      },
      "source": [
        "n = int(input())\n",
        "step = 0\n",
        "print(\"Initial condition = {} {} {}\".format([i for i in range(n,0,-1)], [], []))\n",
        "def TOH(n, i = 'A', j = 'B', k = 'C', v = {'A': [i for i in range(n,0,-1)], 'B': [], 'C': []}):\n",
        "  global step\n",
        "  if n == 1:\n",
        "    v[j].append(v[i].pop())\n",
        "    step += 1\n",
        "    print(\"Step {} = {} {} {}\".format(step, v['A'], v['B'], v['C']))\n",
        "    return\n",
        "  TOH(n-1, i, k, j) \n",
        "  v[j].append(v[i].pop())\n",
        "  step += 1\n",
        "  print(\"Step {} = {} {} {}\".format(step, v['A'], v['B'], v['C']))\n",
        "  TOH(n-1, k, j, i) \n",
        "TOH(n)\n"
      ],
      "execution_count": 122,
      "outputs": [
        {
          "output_type": "stream",
          "text": [
            "6\n",
            "Initial condition = [6, 5, 4, 3, 2, 1] [] []\n",
            "Step 1 = [6, 5, 4, 3, 2] [] [1]\n",
            "Step 2 = [6, 5, 4, 3] [2] [1]\n",
            "Step 3 = [6, 5, 4, 3] [2, 1] []\n",
            "Step 4 = [6, 5, 4] [2, 1] [3]\n",
            "Step 5 = [6, 5, 4, 1] [2] [3]\n",
            "Step 6 = [6, 5, 4, 1] [] [3, 2]\n",
            "Step 7 = [6, 5, 4] [] [3, 2, 1]\n",
            "Step 8 = [6, 5] [4] [3, 2, 1]\n",
            "Step 9 = [6, 5] [4, 1] [3, 2]\n",
            "Step 10 = [6, 5, 2] [4, 1] [3]\n",
            "Step 11 = [6, 5, 2, 1] [4] [3]\n",
            "Step 12 = [6, 5, 2, 1] [4, 3] []\n",
            "Step 13 = [6, 5, 2] [4, 3] [1]\n",
            "Step 14 = [6, 5] [4, 3, 2] [1]\n",
            "Step 15 = [6, 5] [4, 3, 2, 1] []\n",
            "Step 16 = [6] [4, 3, 2, 1] [5]\n",
            "Step 17 = [6, 1] [4, 3, 2] [5]\n",
            "Step 18 = [6, 1] [4, 3] [5, 2]\n",
            "Step 19 = [6] [4, 3] [5, 2, 1]\n",
            "Step 20 = [6, 3] [4] [5, 2, 1]\n",
            "Step 21 = [6, 3] [4, 1] [5, 2]\n",
            "Step 22 = [6, 3, 2] [4, 1] [5]\n",
            "Step 23 = [6, 3, 2, 1] [4] [5]\n",
            "Step 24 = [6, 3, 2, 1] [] [5, 4]\n",
            "Step 25 = [6, 3, 2] [] [5, 4, 1]\n",
            "Step 26 = [6, 3] [2] [5, 4, 1]\n",
            "Step 27 = [6, 3] [2, 1] [5, 4]\n",
            "Step 28 = [6] [2, 1] [5, 4, 3]\n",
            "Step 29 = [6, 1] [2] [5, 4, 3]\n",
            "Step 30 = [6, 1] [] [5, 4, 3, 2]\n",
            "Step 31 = [6] [] [5, 4, 3, 2, 1]\n",
            "Step 32 = [] [6] [5, 4, 3, 2, 1]\n",
            "Step 33 = [] [6, 1] [5, 4, 3, 2]\n",
            "Step 34 = [2] [6, 1] [5, 4, 3]\n",
            "Step 35 = [2, 1] [6] [5, 4, 3]\n",
            "Step 36 = [2, 1] [6, 3] [5, 4]\n",
            "Step 37 = [2] [6, 3] [5, 4, 1]\n",
            "Step 38 = [] [6, 3, 2] [5, 4, 1]\n",
            "Step 39 = [] [6, 3, 2, 1] [5, 4]\n",
            "Step 40 = [4] [6, 3, 2, 1] [5]\n",
            "Step 41 = [4, 1] [6, 3, 2] [5]\n",
            "Step 42 = [4, 1] [6, 3] [5, 2]\n",
            "Step 43 = [4] [6, 3] [5, 2, 1]\n",
            "Step 44 = [4, 3] [6] [5, 2, 1]\n",
            "Step 45 = [4, 3] [6, 1] [5, 2]\n",
            "Step 46 = [4, 3, 2] [6, 1] [5]\n",
            "Step 47 = [4, 3, 2, 1] [6] [5]\n",
            "Step 48 = [4, 3, 2, 1] [6, 5] []\n",
            "Step 49 = [4, 3, 2] [6, 5] [1]\n",
            "Step 50 = [4, 3] [6, 5, 2] [1]\n",
            "Step 51 = [4, 3] [6, 5, 2, 1] []\n",
            "Step 52 = [4] [6, 5, 2, 1] [3]\n",
            "Step 53 = [4, 1] [6, 5, 2] [3]\n",
            "Step 54 = [4, 1] [6, 5] [3, 2]\n",
            "Step 55 = [4] [6, 5] [3, 2, 1]\n",
            "Step 56 = [] [6, 5, 4] [3, 2, 1]\n",
            "Step 57 = [] [6, 5, 4, 1] [3, 2]\n",
            "Step 58 = [2] [6, 5, 4, 1] [3]\n",
            "Step 59 = [2, 1] [6, 5, 4] [3]\n",
            "Step 60 = [2, 1] [6, 5, 4, 3] []\n",
            "Step 61 = [2] [6, 5, 4, 3] [1]\n",
            "Step 62 = [] [6, 5, 4, 3, 2] [1]\n",
            "Step 63 = [] [6, 5, 4, 3, 2, 1] []\n"
          ],
          "name": "stdout"
        }
      ]
    }
  ]
}